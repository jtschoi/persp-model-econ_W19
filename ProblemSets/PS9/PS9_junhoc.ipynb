{
 "cells": [
  {
   "cell_type": "markdown",
   "metadata": {},
   "source": [
    "## MACS30150 PS9\n",
    "### Dr. Richard Evans\n",
    "### Submitted by Junho Choi"
   ]
  },
  {
   "cell_type": "code",
   "execution_count": 1,
   "metadata": {},
   "outputs": [],
   "source": [
    "import pandas as pd\n",
    "import matplotlib.pyplot as plt\n",
    "\n",
    "from scipy.stats import uniform as sp_uniform\n",
    "from scipy.stats import randint as sp_randint\n",
    "from sklearn.linear_model import LogisticRegression\n",
    "from sklearn.ensemble import RandomForestClassifier\n",
    "from sklearn.ensemble import RandomForestRegressor\n",
    "from sklearn.svm import SVC\n",
    "from sklearn.neural_network import MLPClassifier\n",
    "from sklearn.model_selection import RandomizedSearchCV\n",
    "\n",
    "import warnings\n",
    "warnings.filterwarnings(\"ignore\", category=DeprecationWarning)\n",
    "warnings.filterwarnings(\"ignore\", category=FutureWarning)"
   ]
  },
  {
   "cell_type": "markdown",
   "metadata": {},
   "source": [
    "### Question 1-(a)"
   ]
  },
  {
   "cell_type": "markdown",
   "metadata": {},
   "source": [
    "Before creating the scatterplot and determining which model is the best, let us read in the data."
   ]
  },
  {
   "cell_type": "code",
   "execution_count": 2,
   "metadata": {},
   "outputs": [],
   "source": [
    "drink = pd.read_csv('strongdrink.txt')\n",
    "cultivar_uniques = list(drink.cultivar.unique())"
   ]
  },
  {
   "cell_type": "markdown",
   "metadata": {},
   "source": [
    "Below code chunk will produce the scatterplot we are required to show, with alcohol (or `alco` variable) on the x-axis and color intensity (or `color_int` variable) on the y-axis. The data is divided into three subsets depending on the value of `cultivar`, which has three unique values to it."
   ]
  },
  {
   "cell_type": "code",
   "execution_count": 3,
   "metadata": {},
   "outputs": [
    {
     "data": {
      "image/png": "[encoded data removed]",
      "text/plain": [
       "<Figure size 432x288 with 1 Axes>"
      ]
     },
     "metadata": {
      "needs_background": "light"
     },
     "output_type": "display_data"
    }
   ],
   "source": [
    "colors = ['r', 'g', 'b']\n",
    "for i, val in enumerate(cultivar_uniques):\n",
    "    subset = drink.loc[drink['cultivar']==val, :]\n",
    "    subset_x = subset['alco']\n",
    "    subset_y = subset['color_int']\n",
    "    \n",
    "    plt.scatter(x=subset_x, y=subset_y,\n",
    "                color=colors[i], label=\"cultivar={}\".format(val))\n",
    "\n",
    "plt.ylabel('Color Intensity')\n",
    "plt.xlabel('Alcohol')\n",
    "plt.legend()\n",
    "plt.show()"
   ]
  },
  {
   "cell_type": "markdown",
   "metadata": {},
   "source": [
    "### Question 1-(b)"
   ]
  },
  {
   "cell_type": "markdown",
   "metadata": {},
   "source": [
    "Let us define the regressors (or `xvals` below) and the dependent variable (or `yvals` below) with the following code chunk."
   ]
  },
  {
   "cell_type": "code",
   "execution_count": 4,
   "metadata": {},
   "outputs": [],
   "source": [
    "xvals_columns = ['alco', 'malic', 'tot_phen', 'color_int']\n",
    "xvals = drink[xvals_columns].values\n",
    "yvals = drink['cultivar'].values"
   ]
  },
  {
   "cell_type": "markdown",
   "metadata": {},
   "source": [
    "Because the logistic regression function from Scikit-Learn also uses a `random_state` parameter, let us initialize it to be $25$ as the question asks. Also, we define the dictionary `param_dist1` to be used for hyperparameter tuning."
   ]
  },
  {
   "cell_type": "code",
   "execution_count": 5,
   "metadata": {},
   "outputs": [],
   "source": [
    "LR = LogisticRegression(random_state=25)\n",
    "\n",
    "param_dist1 = {\n",
    "    'penalty': ['l1', 'l2'],\n",
    "    'C': sp_uniform(0.1, 10.0)\n",
    "}"
   ]
  },
  {
   "cell_type": "markdown",
   "metadata": {},
   "source": [
    "In the below code chunk, I have define a function called `opt_model` (for \"optimization of model\") that takes in the aforementioned `xvals`, `yvals`, which model to be used, the dictionary containing information about the range of hyperparameters, `randomness` to be used for setting the `random_state`, and `predict` for determining whether to return the predicted classification as well. I have set `n_iter`, `n_jobs`, and `cv` as $200$, $-1$, and $5$ respectively."
   ]
  },
  {
   "cell_type": "code",
   "execution_count": 6,
   "metadata": {},
   "outputs": [],
   "source": [
    "def opt_model(xvals, yvals, model, search_dict, randomness, predict=False):\n",
    "\n",
    "    random_search = \\\n",
    "        RandomizedSearchCV(model, param_distributions=search_dict,\n",
    "                           n_iter=200, n_jobs=-1, cv=5,\n",
    "                           random_state=randomness,\n",
    "                           scoring='neg_mean_squared_error')\n",
    "    \n",
    "    random_search.fit(xvals, yvals)\n",
    "    return_vars = [random_search.best_params_,\n",
    "                   -random_search.best_score_]\n",
    "    \n",
    "    \n",
    "    if predict == True:\n",
    "        pred_yvals = random_search.fit(xvals, yvals)\n",
    "        return_vars.append(pred_yvals)\n",
    "\n",
    "    return return_vars"
   ]
  },
  {
   "cell_type": "markdown",
   "metadata": {},
   "source": [
    "Based on this function, for the logistic regression, the best (hyper)parameters are `C` of approximately $2.6659$ and $l1$ penalty. The MSE of optimal result is shown to be approximately $0.1193$."
   ]
  },
  {
   "cell_type": "code",
   "execution_count": 7,
   "metadata": {},
   "outputs": [
    {
     "name": "stdout",
     "output_type": "stream",
     "text": [
      "Best parameters are: {'C': 2.665871587495725, 'penalty': 'l1'}\n",
      "Best score (MSE) is: 0.11931818181818182\n"
     ]
    },
    {
     "name": "stderr",
     "output_type": "stream",
     "text": [
      "C:\\Users\\Administrator\\Anaconda3\\lib\\site-packages\\sklearn\\svm\\base.py:922: ConvergenceWarning: Liblinear failed to converge, increase the number of iterations.\n",
      "  \"the number of iterations.\", ConvergenceWarning)\n"
     ]
    }
   ],
   "source": [
    "LR_param, LR_score = opt_model(xvals, yvals, LR, param_dist1, 25)\n",
    "print(\"Best parameters are: {}\".format(LR_param))\n",
    "print(\"Best score (MSE) is: {}\".format(LR_score))"
   ]
  },
  {
   "cell_type": "markdown",
   "metadata": {},
   "source": [
    "### Question 1-(c)"
   ]
  },
  {
   "cell_type": "markdown",
   "metadata": {},
   "source": [
    "Now we do the similar for random forest classifier. The random forest classifier function from Scikit-Learn also takes in a `random_state` parameter, so let us set it to be $25$ once again. In addition, let us define `param_dict2` to be used for hyperparameter tuning."
   ]
  },
  {
   "cell_type": "code",
   "execution_count": 8,
   "metadata": {},
   "outputs": [],
   "source": [
    "rfclassifier = RandomForestClassifier(random_state=25)\n",
    "\n",
    "param_dist2 = {\n",
    "    'n_estimators':sp_randint(10, 200),\n",
    "    'max_depth': sp_randint(2, 4),\n",
    "    'min_samples_split': sp_randint(2, 20),\n",
    "    'min_samples_leaf': sp_randint(2, 20),\n",
    "    'max_features': sp_randint(1, 4)\n",
    "}"
   ]
  },
  {
   "cell_type": "markdown",
   "metadata": {},
   "source": [
    "Using the previously defined `opt_model` function, let us plug in the random forest classifier and the above dictionary into this function. The best (hyper)parameters are found to be `max_depth` of 3, `max_features` of 1, `min_samples_leaf` of 13, `min_samples_split` of 18, and finally `n_estimators` of 176. The optimal MSE value is found to be approximately $0.1307$."
   ]
  },
  {
   "cell_type": "code",
   "execution_count": 9,
   "metadata": {},
   "outputs": [
    {
     "name": "stdout",
     "output_type": "stream",
     "text": [
      "Best parameters are: {'max_depth': 3, 'max_features': 1, 'min_samples_leaf': 13, 'min_samples_split': 18, 'n_estimators': 176}\n",
      "Best score (MSE) is: 0.13068181818181818\n"
     ]
    }
   ],
   "source": [
    "rfc_param, rfc_score = opt_model(xvals, yvals, rfclassifier, param_dist2, 25)\n",
    "print(\"Best parameters are: {}\".format(rfc_param))\n",
    "print(\"Best score (MSE) is: {}\".format(rfc_score))"
   ]
  },
  {
   "cell_type": "markdown",
   "metadata": {},
   "source": [
    "### Question 1-(d)"
   ]
  },
  {
   "cell_type": "markdown",
   "metadata": {},
   "source": [
    "Again, let us do the similar for the support vector machine classifier; note that the SVM classifier function does not take a `random_state` parameter. We set the kernel to be radial basis function. In addition, let us set up the dictionray `param_dist3` for hyperparameter tuning once again."
   ]
  },
  {
   "cell_type": "code",
   "execution_count": 10,
   "metadata": {},
   "outputs": [],
   "source": [
    "svclassifier = SVC(kernel='rbf')\n",
    "\n",
    "param_dist3 = {\n",
    "    'C': sp_uniform(loc=0.1, scale=10.0),\n",
    "    'gamma': ['scale', 'auto'],\n",
    "    'shrinking': [True, False]\n",
    "}"
   ]
  },
  {
   "cell_type": "markdown",
   "metadata": {},
   "source": [
    "Using the previously defined `opt_model` function, let us plug in the SVM classifier and the above dictionary into this function. The best (hyper)parameters are found to be `C` of approximately $3.3605$, `gamma` of `scale`, and `shrinking` of `True`. The optimal MSE value is found to be approximately $0.1477$."
   ]
  },
  {
   "cell_type": "code",
   "execution_count": 11,
   "metadata": {},
   "outputs": [
    {
     "name": "stdout",
     "output_type": "stream",
     "text": [
      "Best parameters are: {'C': 3.3605112613782553, 'gamma': 'scale', 'shrinking': True}\n",
      "Best score (MSE) is: 0.14772727272727273\n"
     ]
    }
   ],
   "source": [
    "svc_param, svc_score = opt_model(xvals, yvals, svclassifier, param_dist3, 25)\n",
    "print(\"Best parameters are: {}\".format(svc_param))\n",
    "print(\"Best score (MSE) is: {}\".format(svc_score))"
   ]
  },
  {
   "cell_type": "markdown",
   "metadata": {},
   "source": [
    "### Question 1-(e)"
   ]
  },
  {
   "cell_type": "markdown",
   "metadata": {},
   "source": [
    "Again, let us do the similar for the multilayer perceptron (MLP) classifier; MLP classifier function provided by Scikit-Learn takes in a `random_state` parameter, so let us set it to be $25$. In addition, let us set up the dictionray `param_dist4` for hyperparameter tuning once again."
   ]
  },
  {
   "cell_type": "code",
   "execution_count": 12,
   "metadata": {},
   "outputs": [],
   "source": [
    "multilayerper = MLPClassifier(random_state=25)\n",
    "\n",
    "param_dist4 = {\n",
    "    'hidden_layer_sizes': sp_randint(1, 100),\n",
    "    'activation': ['logistic', 'relu'],\n",
    "    'alpha': sp_uniform(0.1, 10.0)\n",
    "}"
   ]
  },
  {
   "cell_type": "markdown",
   "metadata": {},
   "source": [
    "Once again, using the previously defined `opt_model` function, let us plug in the MLP classifier and the above dictionary into this function. The best (hyper)parameters are found to be `activation` of `relu`, `alpha` of approximately `2.1589`, and `hidden_layer_sizes` of 68. The optimal MSE value is found to be approximately $0.1932$."
   ]
  },
  {
   "cell_type": "code",
   "execution_count": 13,
   "metadata": {},
   "outputs": [
    {
     "name": "stdout",
     "output_type": "stream",
     "text": [
      "Best parameters are: {'activation': 'relu', 'alpha': 2.158912119744818, 'hidden_layer_sizes': 68}\n",
      "Best score (MSE) is: 0.19318181818181818\n"
     ]
    },
    {
     "name": "stderr",
     "output_type": "stream",
     "text": [
      "C:\\Users\\Administrator\\Anaconda3\\lib\\site-packages\\sklearn\\neural_network\\multilayer_perceptron.py:562: ConvergenceWarning: Stochastic Optimizer: Maximum iterations (200) reached and the optimization hasn't converged yet.\n",
      "  % self.max_iter, ConvergenceWarning)\n"
     ]
    }
   ],
   "source": [
    "mlp_param, mlp_score = opt_model(xvals, yvals, multilayerper, param_dist4, 25)\n",
    "print(\"Best parameters are: {}\".format(mlp_param))\n",
    "print(\"Best score (MSE) is: {}\".format(mlp_score))"
   ]
  },
  {
   "cell_type": "markdown",
   "metadata": {},
   "source": [
    "### Question 1-(f)"
   ]
  },
  {
   "cell_type": "markdown",
   "metadata": {},
   "source": [
    "I define the function `model_comparisons` below to automatize the processes above and find the best model (in terms of minimized MSE). This function will return the best model, best parameters for the model, and the optimized MSE."
   ]
  },
  {
   "cell_type": "code",
   "execution_count": 14,
   "metadata": {},
   "outputs": [],
   "source": [
    "def model_comparisons(list_of_models, list_of_dictionaries,\n",
    "                      xvals, yvals, randomness=25):\n",
    "    \n",
    "    contender = 0\n",
    "    contender_mse = float('inf')\n",
    "    contender_param = 0\n",
    "    for i, model in enumerate(list_of_models):\n",
    "        dict_to_use = list_of_dictionaries[i]\n",
    "        param, score = opt_model(xvals, yvals, model,\n",
    "                                 dict_to_use, randomness)\n",
    "        if contender_mse > score:\n",
    "            contender = model\n",
    "            contender_mse = score\n",
    "            contender_param = param\n",
    "    \n",
    "    return contender, contender_param, contender_mse"
   ]
  },
  {
   "cell_type": "markdown",
   "metadata": {},
   "source": [
    "List of models and list of dictionaries to be used in the function are defined as follows."
   ]
  },
  {
   "cell_type": "code",
   "execution_count": 15,
   "metadata": {},
   "outputs": [],
   "source": [
    "list_of_models = [LR, rfclassifier, svclassifier, multilayerper]\n",
    "list_of_dictionaries = [param_dist1, param_dist2, param_dist3, param_dist4]"
   ]
  },
  {
   "cell_type": "markdown",
   "metadata": {},
   "source": [
    "According to the comparison (or \"horse race\") of models, it is shown that the (multinomial) __logistic regression__ is the best (in terms of minimized MSE) given the hyperparameters being `C` of approximately $2.6659$ and $l1$ penalty."
   ]
  },
  {
   "cell_type": "code",
   "execution_count": 16,
   "metadata": {},
   "outputs": [
    {
     "name": "stderr",
     "output_type": "stream",
     "text": [
      "C:\\Users\\Administrator\\Anaconda3\\lib\\site-packages\\sklearn\\svm\\base.py:922: ConvergenceWarning: Liblinear failed to converge, increase the number of iterations.\n",
      "  \"the number of iterations.\", ConvergenceWarning)\n",
      "C:\\Users\\Administrator\\Anaconda3\\lib\\site-packages\\sklearn\\neural_network\\multilayer_perceptron.py:562: ConvergenceWarning: Stochastic Optimizer: Maximum iterations (200) reached and the optimization hasn't converged yet.\n",
      "  % self.max_iter, ConvergenceWarning)\n"
     ]
    }
   ],
   "source": [
    "bestmodel, bestparam, bestmse = \\\n",
    "    model_comparisons(list_of_models, list_of_dictionaries,\n",
    "                      xvals, yvals)"
   ]
  },
  {
   "cell_type": "code",
   "execution_count": 17,
   "metadata": {},
   "outputs": [
    {
     "name": "stdout",
     "output_type": "stream",
     "text": [
      "LogisticRegression(C=1.0, class_weight=None, dual=False, fit_intercept=True,\n",
      "          intercept_scaling=1, max_iter=100, multi_class='warn',\n",
      "          n_jobs=None, penalty='l2', random_state=25, solver='warn',\n",
      "          tol=0.0001, verbose=0, warm_start=False)\n",
      "{'C': 2.665871587495725, 'penalty': 'l1'}\n",
      "0.11931818181818182\n"
     ]
    }
   ],
   "source": [
    "print(bestmodel)\n",
    "print(bestparam)\n",
    "print(bestmse)"
   ]
  }
 ],
 "metadata": {
  "kernelspec": {
   "display_name": "Python 3",
   "language": "python",
   "name": "python3"
  },
  "language_info": {
   "codemirror_mode": {
    "name": "ipython",
    "version": 3
   },
   "file_extension": ".py",
   "mimetype": "text/x-python",
   "name": "python",
   "nbconvert_exporter": "python",
   "pygments_lexer": "ipython3",
   "version": "3.7.1"
  }
 },
 "nbformat": 4,
 "nbformat_minor": 2
}
