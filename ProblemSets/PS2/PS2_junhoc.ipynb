{
 "cells": [
  {
   "cell_type": "markdown",
   "metadata": {},
   "source": [
    "## MACS30150 Problem Set 2\n",
    "## Dr. Richard Evans\n",
    "### Submitted by Junho Choi"
   ]
  },
  {
   "cell_type": "markdown",
   "metadata": {},
   "source": [
    "Let us first import the following packages needed for this problem set."
   ]
  },
  {
   "cell_type": "code",
   "execution_count": 2,
   "metadata": {},
   "outputs": [],
   "source": [
    "import numpy as np\n",
    "import scipy.stats as sts\n",
    "import scipy.optimize as opt\n",
    "import math\n",
    "import sympy as sp\n",
    "import time\n",
    "from matplotlib import pyplot as plt"
   ]
  },
  {
   "cell_type": "markdown",
   "metadata": {},
   "source": [
    "### Exercise 1. Numerical Differentiation"
   ]
  },
  {
   "cell_type": "markdown",
   "metadata": {},
   "source": [
    "#### Problem 1"
   ]
  },
  {
   "cell_type": "markdown",
   "metadata": {},
   "source": [
    "For this question, I define functions \"fn\" and \"fn_deriv\" to represent $f(x) = (\\sin(x)+1)^{(\\sin(\\cos(x))}$ and its derivative; this is shown below."
   ]
  },
  {
   "cell_type": "code",
   "execution_count": 3,
   "metadata": {},
   "outputs": [],
   "source": [
    "def fn(x, value_or_not, value = None):\n",
    "    '''\n",
    "    representing the function f mentioned above.\n",
    "    \n",
    "    inputs:\n",
    "    - x: vector of strings to represent the input variable\n",
    "    - value_or_not: False if value of the function needs not\n",
    "      to be evaluate at some value, True is needs to be\n",
    "    - value: if None, returns the lambdified function for\n",
    "      future use, but if some number is given, evaluate the\n",
    "      function at that value.\n",
    "      \n",
    "    returns:\n",
    "    functional form, lambdified function, or function value\n",
    "    depending on the inputs.\n",
    "    \n",
    "    '''\n",
    "    \n",
    "    X = sp.symbols(x)\n",
    "    base = sp.sin(X) + 1\n",
    "    expo = sp.sin(sp.cos(X))\n",
    "    fn_form = base ** expo\n",
    "    \n",
    "    if value_or_not:\n",
    "        f = sp.lambdify(x, fn_form)\n",
    "        \n",
    "        if value is None:\n",
    "            return f\n",
    "        \n",
    "        else:\n",
    "            return f(value)\n",
    "\n",
    "    else:\n",
    "        return fn_form\n",
    "\n",
    "def fn_deriv(x, value_or_not, value = None):\n",
    "    '''\n",
    "    derivative of the function f mentioned above.\n",
    "    \n",
    "    inputs:\n",
    "    - x: vector of strings to represent the input variable\n",
    "    - value_or_not: False if value of the function needs not\n",
    "      to be evaluate at some value, True is needs to be\n",
    "    - value: if None, returns the lambdified function for\n",
    "      future use, but if some number is given, evaluate the\n",
    "      function at that value.\n",
    "    \n",
    "    returns:\n",
    "    functional form, lambdified function, or function value\n",
    "    of the derivative of f depending on the inputs.\n",
    "    \n",
    "    '''\n",
    "    \n",
    "    \n",
    "    fn_form = sp.diff(fn(x, False))\n",
    "    \n",
    "    if value_or_not:\n",
    "        \n",
    "        f = sp.lambdify(x, fn_form)\n",
    "        \n",
    "        if value is None:\n",
    "            return f\n",
    "        else:\n",
    "            return f(value)\n",
    "\n",
    "    else:\n",
    "        return fn_form"
   ]
  },
  {
   "cell_type": "markdown",
   "metadata": {},
   "source": [
    "Now, we are to plot the functions $f(x)$ and its derivative for the domain $[-\\pi, \\pi]$. This is shown in the below parts."
   ]
  },
  {
   "cell_type": "code",
   "execution_count": 190,
   "metadata": {},
   "outputs": [],
   "source": [
    "pi = math.pi\n",
    "xval = np.linspace((-1)*pi, pi, 100)\n",
    "yval_fn = fn('x', True, xval)\n",
    "yval_fn_deriv = fn_deriv('x', True, xval)"
   ]
  },
  {
   "cell_type": "code",
   "execution_count": 191,
   "metadata": {},
   "outputs": [
    {
     "data": {
      "image/png": "[encoded data removed]",
      "text/plain": [
       "<matplotlib.figure.Figure at 0x1a3f6d905c0>"
      ]
     },
     "metadata": {},
     "output_type": "display_data"
    }
   ],
   "source": [
    "plt.plot(xval, yval_fn, label='original function')\n",
    "plt.plot(xval, yval_fn_deriv, label='derivative')\n",
    "plt.xlabel('x values')\n",
    "plt.ylabel('y values')\n",
    "plt.legend()\n",
    "plt.show()"
   ]
  },
  {
   "cell_type": "markdown",
   "metadata": {},
   "source": [
    "#### Problem 2"
   ]
  },
  {
   "cell_type": "markdown",
   "metadata": {},
   "source": [
    "Below functions, from \"fwd_1\" to \"cen_4,\" represent the six finite difference quotients in Table 8.1."
   ]
  },
  {
   "cell_type": "code",
   "execution_count": 12,
   "metadata": {},
   "outputs": [],
   "source": [
    "def fwd_1(f, x, h):\n",
    "    up = f(x+h) - f(x)\n",
    "    return up / h\n",
    "\n",
    "def fwd_2(f, x, h):\n",
    "    up = (-3)*f(x) + 4*f(x+h) - f(x+(2*h))\n",
    "    return up / (2*h)\n",
    "\n",
    "def bwd_1(f, x, h):\n",
    "    up = f(x) - f(x-h)\n",
    "    return up / h\n",
    "\n",
    "def bwd_2(f, x, h):\n",
    "    up = 3*f(x) - 4*f(x-h) + f(x-(2*h))\n",
    "    return up / (2*h)\n",
    "\n",
    "def cen_2(f, x, h):\n",
    "    up = f(x+h) - f(x-h)\n",
    "    return up / (2*h)\n",
    "\n",
    "def cen_4(f, x, h):\n",
    "    up = f(x-(2*h)) - 8*f(x-h) + 8*f(x+h) - f(x+(2*h))\n",
    "    return up / (12*h)"
   ]
  },
  {
   "cell_type": "markdown",
   "metadata": {},
   "source": [
    "To see some difference between each method, I set the value of $h$ to be $h = 0.05$ and plot the graph as shown below. While there certainly is some difference, the overall shapes of the curves indicate that the approximations are more or less close to the actual value (of the derivative)."
   ]
  },
  {
   "cell_type": "code",
   "execution_count": 194,
   "metadata": {},
   "outputs": [
    {
     "data": {
      "image/png": "[encoded data removed]",
      "text/plain": [
       "<matplotlib.figure.Figure at 0x1a3f6c6d2e8>"
      ]
     },
     "metadata": {},
     "output_type": "display_data"
    }
   ],
   "source": [
    "f = fn('x', True)\n",
    "h = 0.05\n",
    "\n",
    "yval_fwd_1 = fwd_1(f, xval, h)\n",
    "yval_fwd_2 = fwd_2(f, xval, h)\n",
    "yval_bwd_1 = bwd_1(f, xval, h)\n",
    "yval_bwd_2 = bwd_2(f, xval, h)\n",
    "yval_cen_2 = cen_2(f, xval, h)\n",
    "yval_cen_4 = cen_4(f, xval, h)\n",
    "trueval = fn_deriv('x', True, xval)\n",
    "\n",
    "plt.plot(xval, yval_fwd_1, color = 'green',\n",
    "         linestyle = 'dashed', label='Order 1 Forward')\n",
    "plt.plot(xval, yval_fwd_2, color = 'green',\n",
    "         label='Order 2 Forward')\n",
    "plt.plot(xval, yval_bwd_1, color = 'blue',\n",
    "         linestyle = 'dashed', label='Order 1 Backward')\n",
    "plt.plot(xval, yval_bwd_2, color = 'blue',\n",
    "         label='Order 2 Backward')\n",
    "plt.plot(xval, yval_cen_2, color = 'orange',\n",
    "         linestyle = 'dashed', label='Order 2 Centered')\n",
    "plt.plot(xval, yval_cen_4, color = 'orange',\n",
    "         label='Order 4 Centered')\n",
    "plt.plot(xval, yval_fn_deriv, color = 'red',\n",
    "         label='Actual Values')\n",
    "plt.legend()\n",
    "plt.xlabel('x values')\n",
    "plt.ylabel('y values')\n",
    "plt.show()"
   ]
  },
  {
   "cell_type": "markdown",
   "metadata": {},
   "source": [
    "### Problem 3"
   ]
  },
  {
   "cell_type": "markdown",
   "metadata": {},
   "source": [
    "As we had already wrote the function \"fn_deriv\" to compute the derivative of $f(x)$ at some value $x_0$, I use this function to evaluate $f'(1)$. This is shown to be approximately $-0.3965$."
   ]
  },
  {
   "cell_type": "code",
   "execution_count": 237,
   "metadata": {},
   "outputs": [
    {
     "name": "stdout",
     "output_type": "stream",
     "text": [
      "-0.3965403874194623\n"
     ]
    }
   ],
   "source": [
    "## setting x0 = 1 as in the problem\n",
    "func = fn('x', True) ## Lambdified\n",
    "actual_val = fn_deriv('x', True, 1)\n",
    "print(actual_val)"
   ]
  },
  {
   "cell_type": "markdown",
   "metadata": {},
   "source": [
    "Now let us calculate the absolute errors of the approximations using the aforementioned six methods (from the actual value calculated above) at $x_0 = 1$."
   ]
  },
  {
   "cell_type": "code",
   "execution_count": 271,
   "metadata": {},
   "outputs": [],
   "source": [
    "h_arr = np.logspace(-8, 0, 9)\n",
    "\n",
    "f1 = abs(fwd_1(func, 1, h_arr) - actual_val)\n",
    "f2 = abs(fwd_2(func, 1, h_arr) - actual_val)\n",
    "b1 = abs(bwd_1(func, 1, h_arr) - actual_val)\n",
    "b2 = abs(bwd_2(func, 1, h_arr) - actual_val)\n",
    "c2 = abs(cen_2(func, 1, h_arr) - actual_val)\n",
    "c4 = abs(cen_4(func, 1, h_arr) - actual_val)"
   ]
  },
  {
   "cell_type": "markdown",
   "metadata": {},
   "source": [
    "If plotted (with $h$ on the $x$-axis, absolute error on the $y$-axis), the graph will be as follows."
   ]
  },
  {
   "cell_type": "code",
   "execution_count": 277,
   "metadata": {},
   "outputs": [
    {
     "data": {
      "image/png": "[encoded data removed]",
      "text/plain": [
       "<matplotlib.figure.Figure at 0x190e4eeaac8>"
      ]
     },
     "metadata": {},
     "output_type": "display_data"
    }
   ],
   "source": [
    "plt.plot(h_arr, f1, label='Order 1 Forward', marker='.')\n",
    "plt.plot(h_arr, f2, label='Order 1 Forward', marker='.')\n",
    "plt.plot(h_arr, b1, label='Order 1 Backward', marker='.')\n",
    "plt.plot(h_arr, b2, label='Order 2 Backward', marker='.')\n",
    "plt.plot(h_arr, c2, label='Order 2 Centered', marker='.')\n",
    "plt.plot(h_arr, c4, label='Order 4 Centered', marker='.')\n",
    "plt.loglog()\n",
    "plt.legend(loc = 2)\n",
    "plt.xlabel('h')\n",
    "plt.ylabel('Absolute Error')\n",
    "plt.show()"
   ]
  },
  {
   "cell_type": "markdown",
   "metadata": {},
   "source": [
    "### Problem 4"
   ]
  },
  {
   "cell_type": "markdown",
   "metadata": {},
   "source": [
    "Firstly, I load the required file \"plane.npy\" to read in the data."
   ]
  },
  {
   "cell_type": "code",
   "execution_count": 228,
   "metadata": {},
   "outputs": [
    {
     "data": {
      "text/plain": [
       "array([[ 7.  , 56.25, 67.54],\n",
       "       [ 8.  , 55.53, 66.57],\n",
       "       [ 9.  , 54.8 , 65.59],\n",
       "       [10.  , 54.06, 64.59],\n",
       "       [11.  , 53.34, 63.62],\n",
       "       [12.  , 52.69, 62.74],\n",
       "       [13.  , 51.94, 61.72],\n",
       "       [14.  , 51.28, 60.82]])"
      ]
     },
     "execution_count": 228,
     "metadata": {},
     "output_type": "execute_result"
    }
   ],
   "source": [
    "plane = np.load('plane.npy')"
   ]
  },
  {
   "cell_type": "markdown",
   "metadata": {},
   "source": [
    "Below function, using the above information in \"plane,\" will approximate the plane speed with forward quotient for $t=7$, backward for $t=14$, and centered for all other $t$. Notice that since we observe the degrees at integer times, $h$ (used for approximation) has to be $h=1$."
   ]
  },
  {
   "cell_type": "code",
   "execution_count": 232,
   "metadata": {},
   "outputs": [],
   "source": [
    "def plane_speed(plane):\n",
    "    '''\n",
    "    Given list of triple (time, alpha, and beta (latter two being\n",
    "    in degrees)), returns a tuple of time and speed of a plane.\n",
    "    \n",
    "    input:\n",
    "    plane: list of lists [time, alpha, beta]\n",
    "    \n",
    "    output\n",
    "    tuple of time and speed of a plane at that time\n",
    "    \n",
    "    '''\n",
    "    ## distance between the radars\n",
    "    a = 500\n",
    "    \n",
    "    speed = []\n",
    "    \n",
    "    for i, tup in enumerate(plane):\n",
    "        t, al, be = tup\n",
    "        al = np.deg2rad(al)\n",
    "        be = np.deg2rad(be)\n",
    "        x = a * np.tan(al) / (np.tan(be) - np.tan(al))\n",
    "        y = x * np.tan(be)\n",
    "    \n",
    "        ## forward quotient for time t = 7\n",
    "        if i == 0:\n",
    "            tf, alf, bef = plane[i+1]\n",
    "            alf = np.deg2rad(alf)\n",
    "            bef = np.deg2rad(bef)\n",
    "            xf = a * np.tan(alf) / (np.tan(bef) - np.tan(alf))\n",
    "            yf = x * np.tan(bef)\n",
    "            \n",
    "            speed.append([t, ((xf-x)**2 + (yf-y)**2)**0.5])\n",
    "            \n",
    "        else:\n",
    "            tp, alp, bep = plane[i-1]\n",
    "            alp = np.deg2rad(alp)\n",
    "            bep = np.deg2rad(bep)\n",
    "            xp = a * np.tan(alp) / (np.tan(bep) - np.tan(alp))\n",
    "            yp = x * np.tan(bep)\n",
    "            \n",
    "            ## backward quotient for time t = 14\n",
    "            if i == (len(plane) - 1):\n",
    "                speed.append([t,((x-xp)**2 + (y-yp)**2)**0.5])\n",
    "                \n",
    "            ## centered quotient for time t != 14 or 7\n",
    "            else:\n",
    "                tf, alf, bef = plane[i+1]\n",
    "                alf = np.deg2rad(alf)\n",
    "                bef = np.deg2rad(bef)\n",
    "                xf = a * np.tan(alf) / (np.tan(bef) - np.tan(alf))\n",
    "                yf = x * np.tan(bef)\n",
    "                \n",
    "                speed.append([t, (((xf-xp)/2)**2 + ((xf-xp)/2)**2)**0.5])\n",
    "    \n",
    "    return speed"
   ]
  },
  {
   "cell_type": "markdown",
   "metadata": {},
   "source": [
    "Below represents the list of lists showing time and speed at that time together."
   ]
  },
  {
   "cell_type": "code",
   "execution_count": 233,
   "metadata": {},
   "outputs": [
    {
     "data": {
      "text/plain": [
       "[[7.0, 100.83999912507402],\n",
       " [8.0, 64.09715203583406],\n",
       " [9.0, 66.86439206122877],\n",
       " [10.0, 68.39274812849645],\n",
       " [11.0, 65.97444035560711],\n",
       " [12.0, 70.28714345819041],\n",
       " [13.0, 73.39566035331029],\n",
       " [14.0, 92.43996800628017]]"
      ]
     },
     "execution_count": 233,
     "metadata": {},
     "output_type": "execute_result"
    }
   ],
   "source": [
    "plane_speed(plane)"
   ]
  },
  {
   "cell_type": "markdown",
   "metadata": {},
   "source": [
    "#### Problem 5"
   ]
  },
  {
   "cell_type": "markdown",
   "metadata": {},
   "source": [
    "The below function \"jacobianCalc\" uses the second-order centered difference quotient to calculate the Jacobian of some function $f$ at the value $x0$, which $h$ being the distance for approximation."
   ]
  },
  {
   "cell_type": "code",
   "execution_count": 204,
   "metadata": {},
   "outputs": [],
   "source": [
    "def jacobianCalc(f, x0, h):\n",
    "    '''\n",
    "    Approximates Jacobian of function f at x0 given h.\n",
    "    \n",
    "    Inputs:\n",
    "    f  (function) : function that takes in numerical values,\n",
    "                    returning numerical values\n",
    "    x0 (float or lst) : point to be evaluated at\n",
    "    h  (float) : distance for approximation\n",
    "    \n",
    "    Output:\n",
    "\n",
    "    NumPy array representing the Jacobian matrix\n",
    "    evaluated at x0 (given h)\n",
    "    \n",
    "    '''\n",
    "    \n",
    "    jacob_list = []\n",
    "    len_f, len_x0 = len(f(x0)), len(x0)\n",
    "    \n",
    "    x_vec = np.array(x0)\n",
    "    zero_vec = [0] * len_x0\n",
    "    \n",
    "    for i in range(1, len_x0+1):\n",
    "        basis_vec = zero_vec[:]\n",
    "        basis_vec[i-1] = 1\n",
    "        basis_vec = np.array(basis_vec)\n",
    "        \n",
    "        up = np.array(f(x0 + h * basis_vec)) - np.array(f(x0 - h * basis_vec)) \n",
    "        jacob_list.append(list(up / (2 * h)))\n",
    "\n",
    "    jacob_list = np.array(jacob_list)\n",
    "    jacob_list = jacob_list.transpose()\n",
    "    return jacob_list"
   ]
  },
  {
   "cell_type": "markdown",
   "metadata": {},
   "source": [
    "To make sure this function works, let us define the below \"simple\" function $f(x, y)=[x^2, x^3 - y]^T$, and check whether the Jacobian has been produced correctly. We can see that at least for this function, the Jacobian at $(x, y) = (2, 3)$ has been calculated (almost) correctly."
   ]
  },
  {
   "cell_type": "code",
   "execution_count": 205,
   "metadata": {},
   "outputs": [],
   "source": [
    "def simple(in_put):\n",
    "    \n",
    "    x, y = in_put[0], in_put[1]\n",
    "    lst = [x ** 2, x ** 3 - y]\n",
    "    \n",
    "    return lst"
   ]
  },
  {
   "cell_type": "code",
   "execution_count": 206,
   "metadata": {},
   "outputs": [
    {
     "name": "stdout",
     "output_type": "stream",
     "text": [
      "[[ 4.      0.    ]\n",
      " [12.0001 -1.    ]]\n"
     ]
    }
   ],
   "source": [
    "print(jacobianCalc(simple, [2, 3], 0.01))"
   ]
  },
  {
   "cell_type": "markdown",
   "metadata": {},
   "source": [
    "#### Problem 7"
   ]
  },
  {
   "cell_type": "markdown",
   "metadata": {},
   "source": [
    "In the below section, I create a function to create a list of $N$ randomly (and uniformly) drawn values, given some upper and lower bounds.\n",
    "$-\\pi$ to $\\pi$."
   ]
  },
  {
   "cell_type": "code",
   "execution_count": 6,
   "metadata": {},
   "outputs": [],
   "source": [
    "def rando(N, lb, ub, seed=60637):\n",
    "    '''\n",
    "    Returns a list of N randomly and uniformly drawn values from\n",
    "    [lb, ub].\n",
    "    \n",
    "    Inputs:\n",
    "    lb, ub: lower and upper bounds of the draw\n",
    "    N: number of draws to be performed\n",
    "    seed: seed for random and uniform draw\n",
    "    \n",
    "    Returns:\n",
    "    list of N randomly and uniformly drawn values\n",
    "    \n",
    "    '''\n",
    "    \n",
    "    np.random.seed(seed)\n",
    "    rand_lst = []\n",
    "    \n",
    "    for _ in range(0, N):\n",
    "        randnum = np.random.random() * (ub - lb) + lb\n",
    "        rand_lst.append(randnum)\n",
    "\n",
    "    return rand_lst"
   ]
  },
  {
   "cell_type": "code",
   "execution_count": 18,
   "metadata": {},
   "outputs": [],
   "source": [
    "from autograd import numpy as anp\n",
    "from autograd import grad\n",
    "\n",
    "func = fn('x', True)\n",
    "\n",
    "def experiment(N, lbub=(-math.pi, math.pi)):\n",
    "    ## random draws\n",
    "    xvec = rando(N, lbub[0], lbub[1])\n",
    "    \n",
    "    ## using SymPy\n",
    "    actual_val = []\n",
    "    sympy_time = []\n",
    "    for x in xvec:\n",
    "        start_time = time.clock()\n",
    "        val = fn_deriv('x', True, x)\n",
    "        elapsed = time.clock() - start_time\n",
    "        sympy_time.append(elapsed)\n",
    "        actual_val.append(val)\n",
    "    \n",
    "    actual_val = np.array(actual_val)\n",
    "    \n",
    "    ## using centered, order 4\n",
    "    cen4_val = []\n",
    "    cen4_time = []\n",
    "    for x in xvec:\n",
    "        start_time = time.clock()\n",
    "        val = cen_4(func, x, 1e-8)\n",
    "        elapsed = time.clock() - start_time\n",
    "        cen4_time.append(elapsed)\n",
    "        cen4_val.append(val)\n",
    "        \n",
    "    cen4_val = np.array(cen4_val)\n",
    "    cen4_error = abs(cen4_val - actual_val)\n",
    "    \n",
    "    ## using AutoGrad's grad\n",
    "    \n",
    "    for_grad = lambda x: (anp.sin(x) + 1) ** (anp.sin(anp.cos(x)))\n",
    "\n",
    "    grad_val = []\n",
    "    grad_time = []\n",
    "        \n",
    "    for x in xvec:\n",
    "        start_time = time.clock()\n",
    "        grad_diff = grad(for_grad)\n",
    "        val = grad_diff(x)\n",
    "        elapsed = time.clock() - start_time\n",
    "        grad_time.append(elapsed)\n",
    "        grad_val.append(val)\n",
    "        \n",
    "    grad_val = np.array(grad_val)\n",
    "    grad_error = abs(grad_val - actual_val)\n",
    "    \n",
    "    return sympy_time, cen4_time, cen4_error, grad_time, grad_error"
   ]
  },
  {
   "cell_type": "code",
   "execution_count": 20,
   "metadata": {},
   "outputs": [],
   "source": [
    "sp_t, c4_t, c4_e, gr_t, gr_e = experiment(200)"
   ]
  },
  {
   "cell_type": "code",
   "execution_count": 28,
   "metadata": {},
   "outputs": [
    {
     "data": {
      "text/plain": [
       "[]"
      ]
     },
     "execution_count": 28,
     "metadata": {},
     "output_type": "execute_result"
    },
    {
     "data": {
      "image/png": "[encoded data removed]",
      "text/plain": [
       "<matplotlib.figure.Figure at 0x1f63cbbe3c8>"
      ]
     },
     "metadata": {},
     "output_type": "display_data"
    }
   ],
   "source": [
    "plt.plot(c4_t, c4_e, 'ro')\n",
    "plt.plot(gr_t, gr_e, 'bo')\n",
    "plt.loglog()\n"
   ]
  },
  {
   "cell_type": "markdown",
   "metadata": {},
   "source": [
    "### Exercise 2. Numerical Integration"
   ]
  },
  {
   "cell_type": "markdown",
   "metadata": {},
   "source": [
    "#### Problem 2.1"
   ]
  },
  {
   "cell_type": "markdown",
   "metadata": {},
   "source": [
    "In the parts below, I firstly define the function \"g_x\" to represent $g(x)$ in the question and function \"integr\" for evaluting the integral using the three Newton-Cotes methods."
   ]
  },
  {
   "cell_type": "code",
   "execution_count": 104,
   "metadata": {},
   "outputs": [],
   "source": [
    "def g_x(x):\n",
    "    '''\n",
    "    Function to return the value(s) of g when given input x where\n",
    "    g is given in the exercise.\n",
    "    \n",
    "    input: number, sympy symbol, or vector containing them\n",
    "    output: evaluated value\n",
    "    \n",
    "    '''\n",
    "    \n",
    "    return 0.1 * (x**4) - 1.5 * (x**3) + 0.53 * (x**2) + 2 * x + 1"
   ]
  },
  {
   "cell_type": "code",
   "execution_count": 105,
   "metadata": {},
   "outputs": [],
   "source": [
    "def integr(func, a, b, N, method='midpoint'):\n",
    "    '''\n",
    "    Function to return Newton-Cotes approximated values of integration.\n",
    "    \n",
    "    inputs:\n",
    "    func: function to be used in the approximation\n",
    "    a, b: lower and upper bounds of the integral\n",
    "    N: number of points used in approximation\n",
    "    method: a Newton-Cotes method, either midpoint, Simpsons, or\n",
    "            trapezoid\n",
    "            \n",
    "    output:\n",
    "    approximated integral value\n",
    "    \n",
    "    '''\n",
    "    \n",
    "    # calculate vector of N + 1 bar bounds\n",
    "    bin_cuts = np.linspace(a, b, N + 1)\n",
    "    binsize = (b-a)/N\n",
    "    \n",
    "    method = method.lower()\n",
    "    \n",
    "    if method == 'midpoint':\n",
    "        midpoints = bin_cuts[1:] - binsize/2\n",
    "        mid_vals = func(midpoints) * binsize\n",
    "        return mid_vals.sum()\n",
    "    \n",
    "    elif method == 'trapezoid':\n",
    "        bin_fvals = func(bin_cuts)\n",
    "        bin_vals = (bin_fvals[1:] + bin_fvals[0:N]) / 2 * binsize\n",
    "        return bin_vals.sum()\n",
    "    \n",
    "    elif method == 'Simpsons':\n",
    "        bin_fvals = func(bin_cuts)\n",
    "        bin_ones = (bin_fvals[1:] + bin_fvals[0:N])\n",
    "        midpoints = bin_cuts[1:] - binsize/2\n",
    "        mid_ones = func(midpoints) * 4\n",
    "        total = bin_ones + mid_ones\n",
    "        total_vals = total / 6 * binsize\n",
    "        return total_vals.sum()\n",
    "    \n",
    "    else:\n",
    "        raise ValueError('Method name should either be: Simpsons, trapezoid, or midpoint.')"
   ]
  },
  {
   "cell_type": "markdown",
   "metadata": {},
   "source": [
    "For demonstration, I set $N=1000$ and present the results below. For my trials, at least, it seems that the Simpson's rule works the best in terms of having the least absolute error."
   ]
  },
  {
   "cell_type": "code",
   "execution_count": 92,
   "metadata": {},
   "outputs": [
    {
     "name": "stdout",
     "output_type": "stream",
     "text": [
      "Method: Midpoint\n",
      "Approximation: 4373.319646676 ; Absolute error: 0.010353323999879649\n",
      "\n",
      "Method: Trapezoid\n",
      "Approximation: 4373.360706656001 ; Absolute error: 0.030706656000802468\n",
      "\n",
      "Method: Simpsons\n",
      "Approximation: 4373.333333336001 ; Absolute error: 0.0033333360006508883\n"
     ]
    }
   ],
   "source": [
    "print(\"Method: Midpoint\")\n",
    "mid_approx = integr(g_x, -10, 10, 1000, method='midpoint')\n",
    "abs_error = abs(mid_approx - 4373.33)\n",
    "print(\"Approximation:\", mid_approx, \";\", \"Absolute error:\", abs_error)\n",
    "print()\n",
    "print(\"Method: Trapezoid\")\n",
    "trap_approx = integr(g_x, -10, 10, 1000, method='trapezoid')\n",
    "abs_error = abs(trap_approx - 4373.33)\n",
    "print(\"Approximation:\", trap_approx, \";\", \"Absolute error:\", abs_error)\n",
    "print()\n",
    "print(\"Method: Simpsons\")\n",
    "Simp_approx = integr(g_x, -10, 10, 1000, method='Simpsons')\n",
    "abs_error = abs(Simp_approx - 4373.33)\n",
    "print(\"Approximation:\", Simp_approx, \";\", \"Absolute error:\", abs_error)"
   ]
  },
  {
   "cell_type": "markdown",
   "metadata": {},
   "source": [
    "#### Problem 2.2"
   ]
  },
  {
   "cell_type": "markdown",
   "metadata": {},
   "source": [
    "Firstly, I use the fact that $\\int_{Z_{min}}^{Z_{max}}f(Z; \\mu, \\sigma)dZ = F(Z_{max};\\mu,\\sigma) - F(Z_{min};\\mu,\\sigma)$ by definition of CDFs. Using this, I write the function \"ncNormal\" in the below space (for \"nc\" for Newton-Cotes)."
   ]
  },
  {
   "cell_type": "code",
   "execution_count": 121,
   "metadata": {},
   "outputs": [],
   "source": [
    "from scipy.stats import norm as nr\n",
    "\n",
    "def ncNormal(mu, sig, N, k):\n",
    "    '''\n",
    "    Given mean and standard deviation of a normal distribution, along with\n",
    "    the number of nodes (to be equally spaced) and number of standard\n",
    "    deviations to be away from the mean, returns vector of weights and\n",
    "    vector of nodes for Newton-Cotes quadrature method.\n",
    "    \n",
    "    input:\n",
    "    mu: mean of the normal distribution\n",
    "    sig: standard deviation of the normal distribution\n",
    "    N: number of nodes\n",
    "    k: number of standard deviations to be away from the mean\n",
    "    \n",
    "    output:\n",
    "    tuple (double) containing\n",
    "    - vector of nodes\n",
    "    - vector of weights\n",
    "    \n",
    "    '''\n",
    "    \n",
    "    # Lower and upper bounds (i.e. furthest nodes)\n",
    "    lb, ub = mu - sig*k, mu + sig*k\n",
    "    \n",
    "    weights = []\n",
    "    \n",
    "    nodes = np.linspace(lb, ub, N)\n",
    "    case_1 = nr.cdf((nodes[0] + nodes[1]) / 2, loc=mu, scale=sig)\n",
    "    case_N = 1 - nr.cdf((nodes[-1] + nodes[-2]) / 2, loc=mu, scale=sig)\n",
    "    \n",
    "    for i in range(1, N+1):\n",
    "        if i == 1:\n",
    "            weights.append(case_1)\n",
    "        elif i == N:\n",
    "            weights.append(case_N)\n",
    "        else:\n",
    "            now = nodes[i-1]\n",
    "            fwd, bwd = nodes[i], nodes[i-2]\n",
    "            z_min = (bwd + now) / 2\n",
    "            z_max = (fwd + now) / 2\n",
    "            weights.append(nr.cdf(z_max, loc=mu, scale=sig) \n",
    "                           - nr.cdf(z_min, loc=mu, scale=sig))\n",
    "            \n",
    "    return nodes, weights"
   ]
  },
  {
   "cell_type": "markdown",
   "metadata": {},
   "source": [
    "To showcase how the above function works, I print the vectors of nodes and weights (for $N=11$) in the code cell below. Note that as the question does not designate the values for $\\mu, \\sigma, $ and $k$, I have selected the values to be $(\\mu, \\sigma, k) = (0, 1, 1)$."
   ]
  },
  {
   "cell_type": "code",
   "execution_count": 122,
   "metadata": {},
   "outputs": [
    {
     "name": "stdout",
     "output_type": "stream",
     "text": [
      "Nodes\n",
      "[-1.  -0.8 -0.6 -0.4 -0.2  0.   0.2  0.4  0.6  0.8  1. ]\n",
      "Weights\n",
      "[0.18406012534675947, 0.05790352687631356, 0.0665738865029139, 0.07355103908506044, 0.07808358491192363, 0.07965567455405798, 0.07808358491192369, 0.07355103908506044, 0.06657388650291385, 0.057903526876313505, 0.18406012534675953]\n"
     ]
    }
   ],
   "source": [
    "tup = ncNormal(0, 1, 11, 1)\n",
    "nodes, weights = tup\n",
    "print(\"Nodes\")\n",
    "print(nodes)\n",
    "print(\"Weights\")\n",
    "print(weights)"
   ]
  },
  {
   "cell_type": "markdown",
   "metadata": {},
   "source": [
    "#### Problem 2.3"
   ]
  },
  {
   "cell_type": "markdown",
   "metadata": {},
   "source": [
    "For this question, I use the \"ncNormal\" function and build a function called \"ncLN\" to return the weights and nodes for approximating log-normal distributions. As the question says, it should be that the weights are same, while the nodes are no longer equidistributed."
   ]
  },
  {
   "cell_type": "code",
   "execution_count": 101,
   "metadata": {},
   "outputs": [],
   "source": [
    "def ncLN(mu, sig, N, k):\n",
    "    '''\n",
    "    Given mean and standard deviation of a normal distribution, along with\n",
    "    the number of nodes and number of standard deviations to be away from the mean,\n",
    "    returns vector of weights and vector of nodes for Newton-Cotes quadrature method\n",
    "    for log-normal distribution.\n",
    "    \n",
    "    input:\n",
    "    mu: mean of the log-normal distribution\n",
    "    sig: standard deviation of the log-normal distribution\n",
    "    N: number of nodes\n",
    "    k: number of standard deviations to be away from the mean\n",
    "    \n",
    "    output:\n",
    "    tuple (double) containing\n",
    "    - vector of nodes\n",
    "    - vector of weights\n",
    "    \n",
    "    '''\n",
    "    nodes, weights = ncNormal(mu,sig, N, k)\n",
    "    nodes = math.e ** (np.array(nodes))\n",
    "    \n",
    "    return list(nodes), weights"
   ]
  },
  {
   "cell_type": "markdown",
   "metadata": {},
   "source": [
    "To showcase how the above function works, I print the vectors of nodes and weights (for $N=11$) in the code cell below. Note that as the question does not designate the values for $\\mu, \\sigma, $ and $k$, I have selected the values to be $(\\mu, \\sigma, k) = (0, 1, 1)$."
   ]
  },
  {
   "cell_type": "code",
   "execution_count": 103,
   "metadata": {},
   "outputs": [
    {
     "name": "stdout",
     "output_type": "stream",
     "text": [
      "Nodes\n",
      "[0.36787944117144233, 0.44932896411722156, 0.5488116360940265, 0.6703200460356393, 0.8187307530779819, 1.0, 1.22140275816017, 1.4918246976412706, 1.822118800390509, 2.2255409284924674, 2.718281828459045]\n",
      "Weights\n",
      "[0.18406012534675947, 0.05790352687631356, 0.0665738865029139, 0.07355103908506044, 0.07808358491192363, 0.07965567455405798, 0.07808358491192369, 0.07355103908506044, 0.06657388650291385, 0.057903526876313505, 0.18406012534675953]\n"
     ]
    }
   ],
   "source": [
    "tup_two = ncLN(0, 1, 11, 1)\n",
    "nodes, weights = tup_two\n",
    "print(\"Nodes\")\n",
    "print(nodes)\n",
    "print(\"Weights\")\n",
    "print(weights)"
   ]
  },
  {
   "cell_type": "markdown",
   "metadata": {},
   "source": [
    "#### Problem 2.4"
   ]
  },
  {
   "cell_type": "markdown",
   "metadata": {},
   "source": [
    "I first calculate the true value of the expected income, which is done by using the equation given in the question. The said value turns out to be approximately $50011.087$."
   ]
  },
  {
   "cell_type": "code",
   "execution_count": 137,
   "metadata": {},
   "outputs": [
    {
     "name": "stdout",
     "output_type": "stream",
     "text": [
      "True value of the expected income: 50011.08700852173\n"
     ]
    }
   ],
   "source": [
    "mu = 10.5\n",
    "sig = 0.8\n",
    "true_val = math.e ** (mu + (sig ** 2)/2)\n",
    "print(\"True value of the expected income:\", true_val)"
   ]
  },
  {
   "cell_type": "markdown",
   "metadata": {},
   "source": [
    "Using the above-created function \"ncLN\", I calculate the approximated value of the expected income. Notice that (as is expected), as I increase the number of standard deviations away from the mean, the value of approximated expected income approaches the \"true\" value of (approximately) $50011.087$."
   ]
  },
  {
   "cell_type": "code",
   "execution_count": 136,
   "metadata": {},
   "outputs": [
    {
     "name": "stdout",
     "output_type": "stream",
     "text": [
      "Standard deviations away from mean: 1\n",
      "Approximated income: 42584.14993403733\n",
      "\n",
      "Standard deviations away from mean: 3\n",
      "Approximated income: 49857.01956706324\n",
      "\n",
      "Standard deviations away from mean: 5\n",
      "Approximated income: 50011.12133005334\n"
     ]
    }
   ],
   "source": [
    "k = 1\n",
    "print('Standard deviations away from mean:', k)\n",
    "nodes, weights = ncLN(mu, sig, 1001, k)\n",
    "nodes = np.array(nodes)\n",
    "weights = np.array(weights)\n",
    "print('Approximated income:', np.sum(nodes * weights))\n",
    "print()\n",
    "k += 2\n",
    "print('Standard deviations away from mean:', k)\n",
    "nodes, weights = ncLN(mu, sig, 1001, k)\n",
    "nodes = np.array(nodes)\n",
    "weights = np.array(weights)\n",
    "print('Approximated income:', np.sum(nodes * weights))\n",
    "print()\n",
    "k += 2\n",
    "print('Standard deviations away from mean:', k)\n",
    "nodes, weights = ncLN(mu, sig, 1001, k)\n",
    "nodes = np.array(nodes)\n",
    "weights = np.array(weights)\n",
    "print('Approximated income:', np.sum(nodes * weights))"
   ]
  },
  {
   "cell_type": "markdown",
   "metadata": {},
   "source": [
    "#### Problem 3.1"
   ]
  },
  {
   "cell_type": "markdown",
   "metadata": {},
   "source": [
    "Since there are $N=3$ nodes, we have to solve a system of six equations that are as follows, for $j\\in\\{0, 1, ..., 5\\}$\n",
    "\\begin{equation}\n",
    "\\int_a^b x^j dx = \\omega_1x^j_1 + \\omega_2x^j_2 + \\omega_3x^j_2\n",
    "\\end{equation}\n",
    "where we know that\n",
    "\\begin{equation}\n",
    "\\int_a^b x^j dx = \\frac{b^{j+1}}{j+1} - \\frac{a^{j+1}}{j+1}\n",
    "\\end{equation}\n",
    "from integration of polynomials (when $a, b \\in \\mathbb{R}$). Let us first represent the system using the below function. Note that for our question, $(a, b) = (-10, 10)$."
   ]
  },
  {
   "cell_type": "code",
   "execution_count": 154,
   "metadata": {},
   "outputs": [],
   "source": [
    "def gauss_quad(V, a, b):\n",
    "    '''\n",
    "    Calculating the system of equations to be solved for\n",
    "    finding the nodes and weights of integrating with\n",
    "    respect to Gaussian quadrature.\n",
    "    \n",
    "    inputs:\n",
    "    V: vector of weights and nodes to be used for Gaussian\n",
    "       quadrature approximation   \n",
    "    a, b: lower and upper bound for integration\n",
    "    \n",
    "    returns:\n",
    "    list containing system of equations\n",
    "    \n",
    "    '''\n",
    "    \n",
    "    N = int(len(V) / 2)\n",
    "    if N % 2 == 1:\n",
    "        raise ValueError()\n",
    "    \n",
    "    wgt = np.array(V[0:N])\n",
    "    nod = np.array(V[N:])\n",
    "    \n",
    "    system = []\n",
    "    for j in range(0, 2*N):\n",
    "        RHS = wgt * (nod ** j)\n",
    "        RHS = np.sum(RHS)\n",
    "        LHS = (b ** (j+1) - a ** (j+1)) / (j+1)\n",
    "        system.append(RHS - LHS)\n",
    "    \n",
    "    return system"
   ]
  },
  {
   "cell_type": "markdown",
   "metadata": {},
   "source": [
    "To exhibit that the above function has represented the system well, I print the system where $N=3$ as said in the question."
   ]
  },
  {
   "cell_type": "code",
   "execution_count": 158,
   "metadata": {},
   "outputs": [
    {
     "name": "stdout",
     "output_type": "stream",
     "text": [
      "w1 + w2 + w3 - 20.0\n",
      "w1*x1 + w2*x2 + w3*x3\n",
      "w1*x1**2 + w2*x2**2 + w3*x3**2 - 666.666666666667\n",
      "w1*x1**3 + w2*x2**3 + w3*x3**3\n",
      "w1*x1**4 + w2*x2**4 + w3*x3**4 - 40000.0\n",
      "w1*x1**5 + w2*x2**5 + w3*x3**5\n"
     ]
    }
   ],
   "source": [
    "w1, w2, w3 = sp.symbols('w1'), sp.symbols('w2'), sp.symbols('w3')\n",
    "x1, x2, x3 = sp.symbols('x1'), sp.symbols('x2'), sp.symbols('x3')\n",
    "result = gauss_quad([w1, w2, w3, x1, x2, x3], -10, 10)\n",
    "for i in result:\n",
    "    print(i)"
   ]
  },
  {
   "cell_type": "markdown",
   "metadata": {},
   "source": [
    "Now let us observe the approximated value using the Gaussian quadrature method. We can see that the approximated value is very close to the actual value."
   ]
  },
  {
   "cell_type": "code",
   "execution_count": 186,
   "metadata": {},
   "outputs": [
    {
     "name": "stdout",
     "output_type": "stream",
     "text": [
      "Approximated value using Gaussian quadrature: 4373.333333321805\n"
     ]
    }
   ],
   "source": [
    "## lambdifying the prev. function\n",
    "func = lambda x: gauss_quad(x, -10, 10)\n",
    "\n",
    "## approximation of the integrated value\n",
    "initial_guess = [0.5, 1, 0.5, -5, 0, 5]\n",
    "vector = opt.root(func, initial_guess).x\n",
    "N = len(vector)\n",
    "weights = np.array(vector[0:int(N/2)])\n",
    "nodes = np.array(vector[int(N/2):])\n",
    "approximation = np.sum(g_x(nodes) * weights)\n",
    "print(\"Approximated value using Gaussian quadrature:\", approximation)"
   ]
  },
  {
   "cell_type": "markdown",
   "metadata": {},
   "source": [
    "#### Problem 3.2"
   ]
  },
  {
   "cell_type": "markdown",
   "metadata": {},
   "source": [
    "Compared to the result in exercise 3.2, we do notice that the below approximation is closer to the exact value of the integral than the previous one. While the difference between the two methods is subtle and minute at best, one may argue that the below method is superior as errors may accumulate when using a certain method multiple times."
   ]
  },
  {
   "cell_type": "code",
   "execution_count": 185,
   "metadata": {},
   "outputs": [
    {
     "name": "stdout",
     "output_type": "stream",
     "text": [
      "Approximated value using scipy.integrate: 4373.333333333334\n"
     ]
    }
   ],
   "source": [
    "from scipy import integrate as itg\n",
    "\n",
    "val, s = itg.quad(g_x, -10, 10)\n",
    "print(\"Approximated value using scipy.integrate:\", val)"
   ]
  },
  {
   "cell_type": "markdown",
   "metadata": {},
   "source": [
    "#### Problem 4.1"
   ]
  },
  {
   "cell_type": "markdown",
   "metadata": {},
   "source": [
    "Firstly, I wrote a function \"inCircle\" that will determine how many points will be in the circle with radius 1 and center (0, 0). This is shown below."
   ]
  },
  {
   "cell_type": "code",
   "execution_count": 3,
   "metadata": {},
   "outputs": [],
   "source": [
    "def inCircle(x, y):\n",
    "    '''\n",
    "    Given coordinates x and y, determines whether the said coordinates\n",
    "    are within the circle of radius 1 and center point (0, 0).\n",
    "    \n",
    "    Inputs:\n",
    "    x, y: x and y coordinates (either float/int or unidimensional\n",
    "          numpy arrays) that are within the domain ([-1, 1], [-1, 1])\n",
    "    \n",
    "    Returns:\n",
    "    Number of points within the said circle (int)\n",
    "    \n",
    "    '''\n",
    "    addup = x**2 + y**2\n",
    "    checker = addup <= 1\n",
    "    \n",
    "    return np.sum(checker)"
   ]
  },
  {
   "cell_type": "markdown",
   "metadata": {},
   "source": [
    "Next, I came up with a function \"pi_approx\" that will return the closest approximation to 3.1415 (and the number of points used for the said approximation). This is shown below."
   ]
  },
  {
   "cell_type": "code",
   "execution_count": 4,
   "metadata": {},
   "outputs": [],
   "source": [
    "def pi_approx(error, inc_by, whatseed=25):\n",
    "    '''\n",
    "    Approximating the closest number to pi (or 3.1415 in this case)\n",
    "    and returning how many points are required to do so as well\n",
    "    \n",
    "    Inputs:\n",
    "    error (float): boundary of error approximation\n",
    "    inc_by (int): increment for the number of points used for\n",
    "                  approximation\n",
    "    whatseed (int): seed used for \n",
    "    \n",
    "    Returns:\n",
    "    A tuple that contains the following information - (1) closest\n",
    "    approximation to 3.1415 (to the fourth digit of pi) that is\n",
    "    within the set error and (2) the number of points needed to\n",
    "    reach such an approximation\n",
    "    \n",
    "    '''\n",
    "\n",
    "    N = inc_by\n",
    "    cont = True\n",
    "    while cont:\n",
    "        np.random.seed(seed=whatseed)\n",
    "        x = sts.uniform.rvs(size=N, loc=-1, scale=2)\n",
    "        y = sts.uniform.rvs(size=N, loc=-1, scale=2)\n",
    "        \n",
    "        piApprox = inCircle(x, y) / N * 4\n",
    "        \n",
    "        if abs(piApprox - 3.1415) < error:\n",
    "            return piApprox, N\n",
    "            cont = False\n",
    "        \n",
    "        else:\n",
    "            N = N + inc_by"
   ]
  },
  {
   "cell_type": "markdown",
   "metadata": {},
   "source": [
    "Now, let us find the smallest number of random draws needed to create an approximation that matches $pi$ to the 4th decimal, as the question says. As seen below, if the increments are 1 each, then we require 657 points (random draws). However, I do note that this may have been the result of pure chance. That is, the absolute errors (from our approximations to 3.1415) are not necessarily decreasing as the draw numbers are increasing in this case. In fact, if increments are 10s instead of ones, one requires much more random draws (5340 points) than 657."
   ]
  },
  {
   "cell_type": "code",
   "execution_count": 57,
   "metadata": {},
   "outputs": [
    {
     "name": "stdout",
     "output_type": "stream",
     "text": [
      "Increments: 1\n",
      "Closest approximation: 3.141552511415525 ; Number of draws needed: 657\n",
      "\n",
      "Increments: 10\n",
      "Closest approximation: 3.141573033707865 ; Number of draws needed: 5340\n"
     ]
    }
   ],
   "source": [
    "piapprox = pi_approx(0.0001, 1)\n",
    "print('Increments: 1')\n",
    "print(\"Closest approximation:\", piapprox[0], \";\", \n",
    "      \"Number of draws needed:\", piapprox[1])\n",
    "print()\n",
    "piapprox2 = pi_approx(0.0001, 10)\n",
    "print('Increments: 10')\n",
    "print(\"Closest approximation:\", piapprox2[0], \";\", \n",
    "      \"Number of draws needed:\", piapprox2[1])"
   ]
  },
  {
   "cell_type": "markdown",
   "metadata": {},
   "source": [
    "#### Problem 4.2"
   ]
  },
  {
   "cell_type": "markdown",
   "metadata": {},
   "source": [
    "Firstly, I borrow functions \"isPrime\" and \"primes_ascend\" from Evans (2019) which are written below. These functions will be necessary for the construction of function \"equidistr_nth\" which will be used to complete the task given by the exercise."
   ]
  },
  {
   "cell_type": "code",
   "execution_count": 7,
   "metadata": {},
   "outputs": [],
   "source": [
    "def isPrime(n):\n",
    "    '''\n",
    "    --------------------------------------------------------------------\n",
    "    This function returns a boolean indicating whether an integer n is a\n",
    "    prime number\n",
    "    --------------------------------------------------------------------\n",
    "    INPUTS:\n",
    "    n = scalar, any scalar value\n",
    "\n",
    "    OTHER FUNCTIONS AND FILES CALLED BY THIS FUNCTION: None\n",
    "\n",
    "    OBJECTS CREATED WITHIN FUNCTION:\n",
    "    i = integer in [2, sqrt(n)]\n",
    "\n",
    "    FILES CREATED BY THIS FUNCTION: None\n",
    "\n",
    "    RETURN: boolean\n",
    "    --------------------------------------------------------------------\n",
    "    '''\n",
    "    for i in range(2, int(np.sqrt(n) + 1)):\n",
    "        if n % i == 0:\n",
    "            return False\n",
    "\n",
    "    return True\n",
    "\n",
    "def primes_ascend(N, min_val=2):\n",
    "    '''\n",
    "    --------------------------------------------------------------------\n",
    "    This function generates an ordered sequence of N consecutive prime\n",
    "    numbers, the smallest of which is greater than or equal to 1 using\n",
    "    the Sieve of Eratosthenes algorithm.\n",
    "    (https://en.wikipedia.org/wiki/Sieve_of_Eratosthenes)\n",
    "    --------------------------------------------------------------------\n",
    "    INPUTS:\n",
    "    N       = integer, number of elements in sequence of consecutive\n",
    "              prime numbers\n",
    "    min_val = scalar >= 2, the smallest prime number in the consecutive\n",
    "              sequence must be greater-than-or-equal-to this value\n",
    "\n",
    "    OTHER FUNCTIONS AND FILES CALLED BY THIS FUNCTION:\n",
    "        isPrime()\n",
    "\n",
    "    OBJECTS CREATED WITHIN FUNCTION:\n",
    "    primes_vec     = (N,) vector, consecutive prime numbers greater than\n",
    "                     min_val\n",
    "    MinIsEven      = boolean, =True if min_val is even, =False otherwise\n",
    "    MinIsGrtrThn2  = boolean, =True if min_val is\n",
    "                     greater-than-or-equal-to 2, =False otherwise\n",
    "    curr_prime_ind = integer >= 0, running count of prime numbers found\n",
    "\n",
    "    FILES CREATED BY THIS FUNCTION: None\n",
    "\n",
    "    RETURN: primes_vec\n",
    "    --------------------------------------------------------------------\n",
    "    '''\n",
    "    primes_vec = np.zeros(N, dtype=int)\n",
    "    MinIsEven = 1 - min_val % 2\n",
    "    MinIsGrtrThn2 = min_val > 2\n",
    "    curr_prime_ind = 0\n",
    "    if not MinIsGrtrThn2:\n",
    "        i = 2\n",
    "        curr_prime_ind += 1\n",
    "        primes_vec[0] = i\n",
    "    i = min(3, min_val + (MinIsEven * 1))\n",
    "    while curr_prime_ind < N:\n",
    "        if isPrime(i):\n",
    "            curr_prime_ind += 1\n",
    "            primes_vec[curr_prime_ind - 1] = i\n",
    "        i += 2\n",
    "\n",
    "    return primes_vec"
   ]
  },
  {
   "cell_type": "markdown",
   "metadata": {},
   "source": [
    "In the sections below, I define the function \"get_frac_part\" which returns (an array or float showing) the fractional parts of numbers. The function \"equidistr_nth\" returns the $n$th element of a $d$-dimensional equidistributed sequence. I note that since Baker sequence, as defined in Evans (2019), tells us that it should be a sequence whose $n$th element (for $d$-dimensions) is $(\\langle ne^{r_1}\\rangle,\\ldots,\\langle ne^{r_d}\\rangle)$ and the sequence $\\{r_i\\}_{i=1}^{d}$ simply needs to be rational and distinct. As such, I define $r_i = i$ for $i\\in \\mathbb{N}$ as all natural numbers are distinct to one another and rational."
   ]
  },
  {
   "cell_type": "code",
   "execution_count": 26,
   "metadata": {},
   "outputs": [],
   "source": [
    "def get_frac_part(x):\n",
    "    '''\n",
    "    Returns the fractional part of numbers.\n",
    "    \n",
    "    Input:\n",
    "    - x (float or numpy array of floats): numbers to\n",
    "      return the frational parts from.\n",
    "    \n",
    "    Returns:\n",
    "    - fractional parts of numbers.\n",
    "    \n",
    "    '''\n",
    "    \n",
    "    int_part = np.floor(x)\n",
    "    return x - int_part"
   ]
  },
  {
   "cell_type": "code",
   "execution_count": 51,
   "metadata": {},
   "outputs": [],
   "source": [
    "def equidistr_nth(n, d, seq_type='niederreiter'):\n",
    "    '''\n",
    "    Returns the 'n'th element of a 'd'-dimensional equidistributed\n",
    "    sequence, in which the sequence is either a Haber, Weyl,\n",
    "    Niederreiter, or Baker sequence. Default is set to be\n",
    "    Niederreiter.\n",
    "    \n",
    "    Inputs:\n",
    "    n (int): the index of element to be returned from this function\n",
    "    d (int): dimension of the equidistributed sequence\n",
    "    seq_type (str): name of the sequence to be used\n",
    "    \n",
    "    Returns:\n",
    "    the nth element of the d-dimensional equidistributed sequence\n",
    "    that was specified from the function\n",
    "    \n",
    "    '''\n",
    "    \n",
    "    ## To avoid errors when someone puts in sequence names\n",
    "    ## in capital letters (e.g. 'BAKER', 'Niederreiter')\n",
    "    seq_type = seq_type.lower()\n",
    "    \n",
    "    ## Haber or Weyl\n",
    "    if seq_type == 'weyl' or seq_type == 'haber':\n",
    "        sequence_prime_sqrt = np.array(primes_ascend(d)) ** 0.5\n",
    "        weyl_prep = n * sequence_prime_sqrt\n",
    "        \n",
    "        ## Weyl\n",
    "        if seq_type == 'weyl':\n",
    "            return get_frac_part(weyl_prep)\n",
    "            \n",
    "        ## Haber\n",
    "        else:\n",
    "            haber_prep = weyl_prep * (n+1) / 2\n",
    "            return get_frac_part(haber_prep)\n",
    "    \n",
    "    ## Niederreiter or Baker\n",
    "    elif seq_type == 'niederreiter' or seq_type == 'baker':\n",
    "        expo = np.array(range(0, d)) + 1\n",
    "        \n",
    "        ## Niederreiter\n",
    "        if seq_type == 'niederreiter':\n",
    "            expo = expo / (n+1)\n",
    "            return get_frac_part(n * (2 ** expo))\n",
    "        \n",
    "        ## Baker\n",
    "        else:\n",
    "            return get_frac_part(n * (math.e ** expo))\n",
    "    \n",
    "    ## If something else is put in, raise errors!\n",
    "    else:\n",
    "        raise ValueError('Sequence name should either be: niederreiter, haber, weyl, or baker.')"
   ]
  },
  {
   "cell_type": "markdown",
   "metadata": {},
   "source": [
    "To give examples of how this function works, I provide some test results below."
   ]
  },
  {
   "cell_type": "code",
   "execution_count": 55,
   "metadata": {},
   "outputs": [
    {
     "name": "stdout",
     "output_type": "stream",
     "text": [
      "[0.66410674 0.35761599 0.08182952 0.83810673 0.62786718 0.45259332]\n",
      "[0.70562748 0.84609691 0.3281573  0.49015733 0.99497484 0.66615306]\n",
      "[0.61938194 0.66867319 0.02644308 0.1778004  0.95790923 0.14552191]\n",
      "[0.65685425 0.92820323 0.94427191 0.58300524]\n"
     ]
    },
    {
     "ename": "ValueError",
     "evalue": "Sequence name should either be: niederreiter, haber, weyl, or baker.",
     "output_type": "error",
     "traceback": [
      "\u001b[1;31m---------------------------------------------------------------------------\u001b[0m",
      "\u001b[1;31mValueError\u001b[0m                                Traceback (most recent call last)",
      "\u001b[1;32m<ipython-input-55-bbf6aee6106d>\u001b[0m in \u001b[0;36m<module>\u001b[1;34m()\u001b[0m\n\u001b[0;32m      3\u001b[0m \u001b[0mprint\u001b[0m\u001b[1;33m(\u001b[0m\u001b[0mequidistr_nth\u001b[0m\u001b[1;33m(\u001b[0m\u001b[1;36m12\u001b[0m\u001b[1;33m,\u001b[0m \u001b[1;36m6\u001b[0m\u001b[1;33m,\u001b[0m \u001b[0mseq_type\u001b[0m\u001b[1;33m=\u001b[0m\u001b[1;34m'Baker'\u001b[0m\u001b[1;33m)\u001b[0m\u001b[1;33m)\u001b[0m\u001b[1;33m\u001b[0m\u001b[0m\n\u001b[0;32m      4\u001b[0m \u001b[0mprint\u001b[0m\u001b[1;33m(\u001b[0m\u001b[0mequidistr_nth\u001b[0m\u001b[1;33m(\u001b[0m\u001b[1;36m4\u001b[0m\u001b[1;33m,\u001b[0m \u001b[1;36m4\u001b[0m\u001b[1;33m,\u001b[0m \u001b[0mseq_type\u001b[0m\u001b[1;33m=\u001b[0m\u001b[1;34m'WEYL'\u001b[0m\u001b[1;33m)\u001b[0m\u001b[1;33m)\u001b[0m\u001b[1;33m\u001b[0m\u001b[0m\n\u001b[1;32m----> 5\u001b[1;33m \u001b[0mprint\u001b[0m\u001b[1;33m(\u001b[0m\u001b[0mequidistr_nth\u001b[0m\u001b[1;33m(\u001b[0m\u001b[1;36m4\u001b[0m\u001b[1;33m,\u001b[0m \u001b[1;36m3\u001b[0m\u001b[1;33m,\u001b[0m \u001b[0mseq_type\u001b[0m\u001b[1;33m=\u001b[0m\u001b[1;34m'no clue'\u001b[0m\u001b[1;33m)\u001b[0m\u001b[1;33m)\u001b[0m\u001b[1;33m\u001b[0m\u001b[0m\n\u001b[0m",
      "\u001b[1;32m<ipython-input-51-1c2e604c5330>\u001b[0m in \u001b[0;36mequidistr_nth\u001b[1;34m(n, d, seq_type)\u001b[0m\n\u001b[0;32m     25\u001b[0m \u001b[1;33m\u001b[0m\u001b[0m\n\u001b[0;32m     26\u001b[0m     \u001b[1;32melse\u001b[0m\u001b[1;33m:\u001b[0m\u001b[1;33m\u001b[0m\u001b[0m\n\u001b[1;32m---> 27\u001b[1;33m         \u001b[1;32mraise\u001b[0m \u001b[0mValueError\u001b[0m\u001b[1;33m(\u001b[0m\u001b[1;34m'Sequence name should either be: niederreiter, haber, weyl, or baker.'\u001b[0m\u001b[1;33m)\u001b[0m\u001b[1;33m\u001b[0m\u001b[0m\n\u001b[0m",
      "\u001b[1;31mValueError\u001b[0m: Sequence name should either be: niederreiter, haber, weyl, or baker."
     ]
    }
   ],
   "source": [
    "print(equidistr_nth(15, 6))\n",
    "print(equidistr_nth(15, 6, seq_type='haber'))\n",
    "print(equidistr_nth(12, 6, seq_type='Baker'))\n",
    "print(equidistr_nth(4, 4, seq_type='WEYL'))\n",
    "print(equidistr_nth(4, 3, seq_type='no clue'))"
   ]
  },
  {
   "cell_type": "markdown",
   "metadata": {},
   "source": [
    "#### Problem 4.3"
   ]
  },
  {
   "cell_type": "code",
   "execution_count": 81,
   "metadata": {},
   "outputs": [],
   "source": [
    "def pi_approx_equi(error, inc_by, seq_type='niederreiter'):\n",
    "    \n",
    "    N = inc_by\n",
    "    cont = True\n",
    "    point_in_circle = 0\n",
    "    \n",
    "    while cont:\n",
    "        x, y = (2 * equidistr_nth(N, 2, seq_type)) - 1\n",
    "        if inCircle(x, y):\n",
    "            point_in_circle += 1\n",
    "        \n",
    "        piApprox = point_in_circle / N * 4\n",
    "        \n",
    "        if abs(piApprox - 3.1415) < error:\n",
    "            return piApprox, N\n",
    "            cont = False\n",
    "        \n",
    "        else:\n",
    "            N = N + inc_by"
   ]
  },
  {
   "cell_type": "markdown",
   "metadata": {},
   "source": [
    "From the below results, it is seen that the draws from equidistributed sequences such as Haber, Weyl, or Baker require more points than $N=657$, which was the result from Monte Carlo simulation. However, I have noted previously that the number $N=657$ may have been purely due to chance; therefore, it is likely that there are cases in which quasi-Monte Carlo simulations have advantage over the plain Monte Carlo simulations. I also note that the test with Niederreiter sequence has been dropped due to runtime issues.\n"
   ]
  },
  {
   "cell_type": "code",
   "execution_count": 83,
   "metadata": {},
   "outputs": [
    {
     "name": "stdout",
     "output_type": "stream",
     "text": [
      "Distribution: Haber\n",
      "Closest approximation: 3.1414821944177094 ; Number of draws needed: 2078\n",
      "\n",
      "Distribution: Weyl\n",
      "Closest approximation: 3.141585040071238 ; Number of draws needed: 1123\n",
      "\n",
      "Distribution: Baker\n",
      "Closest approximation: 3.1414141414141414 ; Number of draws needed: 792\n"
     ]
    }
   ],
   "source": [
    "piapprox_hab = pi_approx_equi(0.0001, 1, 'haber')\n",
    "print('Distribution: Haber')\n",
    "print(\"Closest approximation:\", piapprox_hab[0], \";\", \n",
    "      \"Number of draws needed:\", piapprox_hab[1])\n",
    "print()\n",
    "piapprox_weyl = pi_approx_equi(0.0001, 1, 'weyl')\n",
    "print('Distribution: Weyl')\n",
    "print(\"Closest approximation:\", piapprox_weyl[0], \";\", \n",
    "      \"Number of draws needed:\", piapprox_weyl[1])\n",
    "print()\n",
    "piapprox_baker = pi_approx_equi(0.0001, 1, 'baker')\n",
    "print('Distribution: Baker')\n",
    "print(\"Closest approximation:\", piapprox_baker[0], \";\", \n",
    "      \"Number of draws needed:\", piapprox_baker[1])"
   ]
  }
 ],
 "metadata": {
  "kernelspec": {
   "display_name": "Python 3",
   "language": "python",
   "name": "python3"
  },
  "language_info": {
   "codemirror_mode": {
    "name": "ipython",
    "version": 3
   },
   "file_extension": ".py",
   "mimetype": "text/x-python",
   "name": "python",
   "nbconvert_exporter": "python",
   "pygments_lexer": "ipython3",
   "version": "3.6.4"
  }
 },
 "nbformat": 4,
 "nbformat_minor": 2
}
