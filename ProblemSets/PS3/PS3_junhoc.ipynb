{
 "cells": [
  {
   "cell_type": "markdown",
   "metadata": {},
   "source": [
    "## PS3 for MACS30150\n",
    "### Dr. Evans\n",
    "#### Submitted by Junho Choi\n",
    "\n",
    "This is .ipynb file for PS3 containing answers and codes to questions 5.9 through 5.22."
   ]
  },
  {
   "cell_type": "markdown",
   "metadata": {},
   "source": [
    "### Exercise 5.9"
   ]
  },
  {
   "cell_type": "markdown",
   "metadata": {},
   "source": [
    "In the below section, I have used *numpy*'s *linspace* to generate vector $W$ that contains 100 elements from 0.01 to 1, evenly spaced (with increments of 0.01)."
   ]
  },
  {
   "cell_type": "code",
   "execution_count": 717,
   "metadata": {},
   "outputs": [],
   "source": [
    "import numpy as np"
   ]
  },
  {
   "cell_type": "code",
   "execution_count": 718,
   "metadata": {},
   "outputs": [
    {
     "name": "stdout",
     "output_type": "stream",
     "text": [
      "[ 0.01  0.02  0.03  0.04  0.05  0.06  0.07  0.08  0.09  0.1   0.11  0.12\n",
      "  0.13  0.14  0.15  0.16  0.17  0.18  0.19  0.2   0.21  0.22  0.23  0.24\n",
      "  0.25  0.26  0.27  0.28  0.29  0.3   0.31  0.32  0.33  0.34  0.35  0.36\n",
      "  0.37  0.38  0.39  0.4   0.41  0.42  0.43  0.44  0.45  0.46  0.47  0.48\n",
      "  0.49  0.5   0.51  0.52  0.53  0.54  0.55  0.56  0.57  0.58  0.59  0.6\n",
      "  0.61  0.62  0.63  0.64  0.65  0.66  0.67  0.68  0.69  0.7   0.71  0.72\n",
      "  0.73  0.74  0.75  0.76  0.77  0.78  0.79  0.8   0.81  0.82  0.83  0.84\n",
      "  0.85  0.86  0.87  0.88  0.89  0.9   0.91  0.92  0.93  0.94  0.95  0.96\n",
      "  0.97  0.98  0.99  1.  ]\n"
     ]
    }
   ],
   "source": [
    "N = 100\n",
    "W_max, W_min = 1, 0.01\n",
    "W = np.linspace(W_min, W_max, N)\n",
    "print(W)"
   ]
  },
  {
   "cell_type": "markdown",
   "metadata": {},
   "source": [
    "### Exercise 5.10"
   ]
  },
  {
   "cell_type": "markdown",
   "metadata": {},
   "source": [
    "Using (5.9) from Evans (2019, p. 49), we can characterize the problem for $t=T+1$ as follows:\n",
    "\n",
    "\\begin{equation}\n",
    "V_{T}(W) \\equiv C(V_{T+1}(W)) \\equiv \\max_{W'\\in [0, W]}u(W-W')+\\beta V_{T+1}(W')\n",
    "\\end{equation}\n",
    "\n",
    "which is equivalent to (5.34) on Evans (2019, p. 68) as expectedly. We now follow the steps in Section 5.9 of Evans (2019, pp. 68-69). First, in the below section, I generate all the possible combinations of $W-W'$ (denoted *W_Wp*)that will be used in the future steps. Note that for $W$ and $W'$, I will use the vector created in Exercise 5.9."
   ]
  },
  {
   "cell_type": "code",
   "execution_count": 745,
   "metadata": {},
   "outputs": [
    {
     "name": "stdout",
     "output_type": "stream",
     "text": [
      "[[ 0.01  0.01  0.01 ...,  0.01  0.01  0.01]\n",
      " [ 0.02  0.02  0.02 ...,  0.02  0.02  0.02]\n",
      " [ 0.03  0.03  0.03 ...,  0.03  0.03  0.03]\n",
      " ..., \n",
      " [ 0.98  0.98  0.98 ...,  0.98  0.98  0.98]\n",
      " [ 0.99  0.99  0.99 ...,  0.99  0.99  0.99]\n",
      " [ 1.    1.    1.   ...,  1.    1.    1.  ]]\n",
      "\n",
      "[[ 0.   -0.01 -0.02 ..., -0.97 -0.98 -0.99]\n",
      " [ 0.01  0.   -0.01 ..., -0.96 -0.97 -0.98]\n",
      " [ 0.02  0.01  0.   ..., -0.95 -0.96 -0.97]\n",
      " ..., \n",
      " [ 0.97  0.96  0.95 ...,  0.   -0.01 -0.02]\n",
      " [ 0.98  0.97  0.96 ...,  0.01  0.   -0.01]\n",
      " [ 0.99  0.98  0.97 ...,  0.02  0.01  0.  ]]\n"
     ]
    }
   ],
   "source": [
    "W_possibles = np.tile(W.reshape((N, 1)), (1, N))\n",
    "print(W_possibles)\n",
    "print()\n",
    "W_Wp = W_possibles - W_possibles.transpose()\n",
    "print(W_Wp)"
   ]
  },
  {
   "cell_type": "markdown",
   "metadata": {},
   "source": [
    "Notice that in the above matrix (in numpy array form), there are nonpositive values. On such values, the natural logarithm function will be undefined; therefore, we switch such numbers with a very small positive number; Evans (2019, p. 70) suggests $10^{-10}$, and this is what I will use."
   ]
  },
  {
   "cell_type": "code",
   "execution_count": 746,
   "metadata": {},
   "outputs": [],
   "source": [
    "verysmallpos = 10 ** (-10)\n",
    "nonpos = W_Wp <= 0\n",
    "W_Wp[nonpos] = verysmallpos"
   ]
  },
  {
   "cell_type": "markdown",
   "metadata": {},
   "source": [
    "We know that, as the question itself has elaborated, $V_{T+1}(W')$ is a column vector of $N$ zeroes. Therefore, the maximization problem will not need to take the part $\\beta V_{T+1}(W')$ into consideration. Just in case, however, I create the vector *vTp1* (representing $V_{T+1}(W')$) in the below section. "
   ]
  },
  {
   "cell_type": "code",
   "execution_count": 721,
   "metadata": {},
   "outputs": [],
   "source": [
    "vTp1 = np.array([0] * N)"
   ]
  },
  {
   "cell_type": "markdown",
   "metadata": {},
   "source": [
    "I define the function *ln_w_np* below to evaluate natural logarithms. Note that since natural logarithms are undefined over nonpositive values, they will take the output of a very large negative number; Evans (2019, p. 70) suggests the use of $-10^{10}$, and I will use this."
   ]
  },
  {
   "cell_type": "code",
   "execution_count": 722,
   "metadata": {},
   "outputs": [],
   "source": [
    "from numpy import log as ln\n",
    "import math\n",
    "from matplotlib import pyplot as plt"
   ]
  },
  {
   "cell_type": "code",
   "execution_count": 762,
   "metadata": {},
   "outputs": [],
   "source": [
    "verylargeneg = (-1) * (10 ** 10)\n",
    "\n",
    "def ln_w_np(xval):\n",
    "    try:\n",
    "        rtnval = ln(xval)\n",
    "    except ValueError:\n",
    "        rtnval = verylargeneg\n",
    "    return rtnval"
   ]
  },
  {
   "cell_type": "code",
   "execution_count": 763,
   "metadata": {},
   "outputs": [
    {
     "data": {
      "text/plain": [
       "-1000000.0"
      ]
     },
     "execution_count": 763,
     "metadata": {},
     "output_type": "execute_result"
    }
   ],
   "source": [
    "verylargeneg / 10000"
   ]
  },
  {
   "cell_type": "markdown",
   "metadata": {},
   "source": [
    "Let us now define a (rather trivial) function that will give us the utility function (denoted *Ufn*). But $u(\\cdot) = \\ln(\\cdot)$, so we can write the following."
   ]
  },
  {
   "cell_type": "code",
   "execution_count": 724,
   "metadata": {},
   "outputs": [],
   "source": [
    "def Ufn(mat):\n",
    "    return ln_w_np(mat)"
   ]
  },
  {
   "cell_type": "markdown",
   "metadata": {},
   "source": [
    "Then *W_Wp* evaluated by the utility function will be as follows:"
   ]
  },
  {
   "cell_type": "code",
   "execution_count": 725,
   "metadata": {},
   "outputs": [
    {
     "name": "stdout",
     "output_type": "stream",
     "text": [
      "Dimensions are: (100, 100)\n",
      "[[ -2.30258509e+01  -2.30258509e+01  -2.30258509e+01 ...,  -2.30258509e+01\n",
      "   -2.30258509e+01  -2.30258509e+01]\n",
      " [ -4.60517019e+00  -2.30258509e+01  -2.30258509e+01 ...,  -2.30258509e+01\n",
      "   -2.30258509e+01  -2.30258509e+01]\n",
      " [ -3.91202301e+00  -4.60517019e+00  -2.30258509e+01 ...,  -2.30258509e+01\n",
      "   -2.30258509e+01  -2.30258509e+01]\n",
      " ..., \n",
      " [ -3.04592075e-02  -4.08219945e-02  -5.12932944e-02 ...,  -2.30258509e+01\n",
      "   -2.30258509e+01  -2.30258509e+01]\n",
      " [ -2.02027073e-02  -3.04592075e-02  -4.08219945e-02 ...,  -4.60517019e+00\n",
      "   -2.30258509e+01  -2.30258509e+01]\n",
      " [ -1.00503359e-02  -2.02027073e-02  -3.04592075e-02 ...,  -3.91202301e+00\n",
      "   -4.60517019e+00  -2.30258509e+01]]\n"
     ]
    }
   ],
   "source": [
    "U = Ufn(W_Wp)\n",
    "print(\"Dimensions are:\", U.shape)\n",
    "print(U)"
   ]
  },
  {
   "cell_type": "markdown",
   "metadata": {},
   "source": [
    "We now maximize over the rows (which is the direction that $W'$ took), and the result will be what is represented in *vT*; this will be the result of evaluating $W$ with the value function $V_T$ (i.e. $V_T(W)$). The $W'$ values that returned the maxima to calculate the value function is the policy function $\\psi_T$ evaluated at $W$ (i.e. $W' = \\psi_T(W)$); this will be represented in *pT*. Notice that as there should be no cake transferred to period $T+1$, $W'$ takes the smallest value possible, which is 0.01 for our configurations.\n",
    "\n",
    "To promote future uses, we define function *valpol* for calculating value and policy function approximations. This will take the matrix of possible values of $W-W'$ (which is W_Wp in our case), $V(W')$, and $\\beta$ value initialized to be $0.9$. Note that the upper triangular part of the overall matrix (i.e. $U(W-W')+\\beta V(W')$) is where $W-W'$ is negative, and so it should only return the smallest $W'$ possible (0.01 in our case). Therefore, they are punished with a large negative number; in my case, I have put in $-1,000,000$."
   ]
  },
  {
   "cell_type": "code",
   "execution_count": 895,
   "metadata": {},
   "outputs": [],
   "source": [
    "def valpol(W_Wp, VW, beta=0.9):\n",
    "    \n",
    "    ## evaluating utility function\n",
    "    U = Ufn(W_Wp)\n",
    "    \n",
    "    ## repeating VW N times\n",
    "    VW_mat = np.tile(VW, (N, 1))\n",
    "    \n",
    "    ## should not account for W-W' that is negative, so do this\n",
    "    ## putting in verylargeneg produced errors; try this instead\n",
    "    VW_mat[nonpos] = verylargeneg / 10000\n",
    "\n",
    "    ## contraction\n",
    "    contraction = U + (beta * VW_mat)\n",
    "    \n",
    "    ## value function evaluation, one more iteration\n",
    "    ## note that W' was on the columns, so axis=1\n",
    "    VW_iter = contraction.max(axis=1)\n",
    "    \n",
    "    ## policy function evaluation, one more iteration\n",
    "    polidx = np.argmax(contraction, axis=1)\n",
    "    pol_iter = W[polidx]\n",
    "    \n",
    "    return VW_iter, pol_iter, polidx"
   ]
  },
  {
   "cell_type": "markdown",
   "metadata": {},
   "source": [
    "Using the above function, $V_T(W')$ and $W'=\\psi_T(W)$ can be found as follows; their graphs are presented below."
   ]
  },
  {
   "cell_type": "code",
   "execution_count": 897,
   "metadata": {},
   "outputs": [
    {
     "data": {
      "text/plain": [
       "(100,)"
      ]
     },
     "execution_count": 897,
     "metadata": {},
     "output_type": "execute_result"
    }
   ],
   "source": [
    "## value and policy at T\n",
    "vT, pT, a = valpol(W_Wp, vTp1)\n",
    "a.shape"
   ]
  },
  {
   "cell_type": "code",
   "execution_count": 766,
   "metadata": {},
   "outputs": [
    {
     "data": {
      "image/png": "[encoded data removed]",
      "text/plain": [
       "<matplotlib.figure.Figure at 0x22e6630a940>"
      ]
     },
     "metadata": {},
     "output_type": "display_data"
    }
   ],
   "source": [
    "## value at T\n",
    "plt.plot(W,vT)\n",
    "plt.title(\"Value function at T\")\n",
    "plt.show()"
   ]
  },
  {
   "cell_type": "code",
   "execution_count": 767,
   "metadata": {},
   "outputs": [
    {
     "data": {
      "image/png": "[encoded data removed]",
      "text/plain": [
       "<matplotlib.figure.Figure at 0x22e664354e0>"
      ]
     },
     "metadata": {},
     "output_type": "display_data"
    }
   ],
   "source": [
    "## policy at T\n",
    "plt.plot(W,pT)\n",
    "plt.title(\"Policy function at T\")\n",
    "plt.show()"
   ]
  },
  {
   "cell_type": "markdown",
   "metadata": {},
   "source": [
    "### Exercise 5.11"
   ]
  },
  {
   "cell_type": "markdown",
   "metadata": {},
   "source": [
    "In the below section, I define function *norm_val_fns* to calculate the sum of squared differences for $V_t(W)$ and $V_{t+1}(W')$. The said function requires 2 inputs, *v* and *v_plus_1* to indicate $V_t(W)$ and $V_{t+1}(W')$ (in lists or numpy arrays)."
   ]
  },
  {
   "cell_type": "code",
   "execution_count": 768,
   "metadata": {},
   "outputs": [],
   "source": [
    "def norm_val_fns(v1, v2):\n",
    "    \n",
    "    err_msg = \"v1 and v2 should be of the same length\"\n",
    "    assert len(v1) == len(v2), err_msg\n",
    "    \n",
    "    if type(v1) == list:\n",
    "        v1 = np.array(v1)\n",
    "\n",
    "    if type(v2) == list:\n",
    "        v2 = np.array(v2)\n",
    "    \n",
    "    v1_2 = v1 - v2\n",
    "    mult = v1_2 * v1_2\n",
    "    \n",
    "    return np.sum(mult)"
   ]
  },
  {
   "cell_type": "markdown",
   "metadata": {},
   "source": [
    "Using the above function, $\\delta_T$ can be calculated as $\\delta_T \\approx 8.1 \\times 10^{11}$. Note that the large distance is most likely due to punishing the upper triangle part of the matrix with a negative number with very large absolute value (i.e. $-1,000,000$.)"
   ]
  },
  {
   "cell_type": "code",
   "execution_count": 769,
   "metadata": {
    "scrolled": true
   },
   "outputs": [
    {
     "name": "stdout",
     "output_type": "stream",
     "text": [
      "delta_T : 810041447241.0\n"
     ]
    }
   ],
   "source": [
    "d_T = norm_val_fns(vT, vTp1)\n",
    "print('delta_T :', d_T)"
   ]
  },
  {
   "cell_type": "markdown",
   "metadata": {},
   "source": [
    "### Exercise 5.12"
   ]
  },
  {
   "cell_type": "markdown",
   "metadata": {},
   "source": [
    "Using *valpol* and the past value for value function approximation at time $T$, we can calculate $V_{T-1}$ and $\\psi_{T-1}$ as follows."
   ]
  },
  {
   "cell_type": "code",
   "execution_count": 770,
   "metadata": {},
   "outputs": [],
   "source": [
    "vTm1, pTm1 = valpol(W_Wp, vT)"
   ]
  },
  {
   "cell_type": "code",
   "execution_count": 771,
   "metadata": {},
   "outputs": [
    {
     "data": {
      "image/png": "[encoded data removed]",
      "text/plain": [
       "<matplotlib.figure.Figure at 0x22e662fa400>"
      ]
     },
     "metadata": {},
     "output_type": "display_data"
    }
   ],
   "source": [
    "## value at T-1\n",
    "plt.plot(W,vTm1)\n",
    "plt.title(\"Value function at T-1\")\n",
    "plt.show()"
   ]
  },
  {
   "cell_type": "code",
   "execution_count": 773,
   "metadata": {},
   "outputs": [
    {
     "data": {
      "image/png": "[encoded data removed]",
      "text/plain": [
       "<matplotlib.figure.Figure at 0x22e66461128>"
      ]
     },
     "metadata": {},
     "output_type": "display_data"
    }
   ],
   "source": [
    "## policy at T-1\n",
    "plt.plot(W,pTm1)\n",
    "plt.title(\"Policy function at T-1\")\n",
    "plt.show()"
   ]
  },
  {
   "cell_type": "markdown",
   "metadata": {},
   "source": [
    "Distance $\\delta_{T-1}\\approx 6.6\\times 10^{11}$ has decreased slightly than before ($\\delta_T \\approx 8.1 \\times 10^{11}$)."
   ]
  },
  {
   "cell_type": "code",
   "execution_count": 774,
   "metadata": {},
   "outputs": [
    {
     "name": "stdout",
     "output_type": "stream",
     "text": [
      "delta_(T-1) : 656133572636.0\n"
     ]
    }
   ],
   "source": [
    "d_Tm1 = norm_val_fns(vTm1, vT)\n",
    "print('delta_(T-1) :', d_Tm1)"
   ]
  },
  {
   "cell_type": "markdown",
   "metadata": {},
   "source": [
    "### Exercise 5.13"
   ]
  },
  {
   "cell_type": "markdown",
   "metadata": {},
   "source": [
    "Once again, we can calculate the value and policy function evaluations at $T-2$ (i.e. $V_{T-2}$ and $\\psi_{T-2}$) as follows."
   ]
  },
  {
   "cell_type": "code",
   "execution_count": 788,
   "metadata": {},
   "outputs": [],
   "source": [
    "vTm2, pTm2 = valpol(W_Wp, vTm1)"
   ]
  },
  {
   "cell_type": "code",
   "execution_count": 790,
   "metadata": {},
   "outputs": [
    {
     "data": {
      "image/png": "[encoded data removed]",
      "text/plain": [
       "<matplotlib.figure.Figure at 0x22e661072e8>"
      ]
     },
     "metadata": {},
     "output_type": "display_data"
    }
   ],
   "source": [
    "## value at T-2\n",
    "plt.plot(W,vTm2)\n",
    "plt.title(\"Value function at T-2\")\n",
    "plt.show()"
   ]
  },
  {
   "cell_type": "code",
   "execution_count": 792,
   "metadata": {},
   "outputs": [
    {
     "data": {
      "image/png": "[encoded data removed]",
      "text/plain": [
       "<matplotlib.figure.Figure at 0x22e6621ed30>"
      ]
     },
     "metadata": {},
     "output_type": "display_data"
    }
   ],
   "source": [
    "## policy at T-2\n",
    "plt.plot(W,pTm2)\n",
    "plt.title(\"Policy function at T-2\")\n",
    "plt.show()"
   ]
  },
  {
   "cell_type": "markdown",
   "metadata": {},
   "source": [
    "Distance $\\delta_{T-2}\\approx 5.3\\times10^{11}$ has decreased in comparison to $\\delta_{T-1}\\approx 6.6\\times 10^{11}$ and $\\delta_{T}\\approx 8.1 \\times 10^{11}$. Let us further iterate to see (or fail to see) convergence."
   ]
  },
  {
   "cell_type": "code",
   "execution_count": 793,
   "metadata": {},
   "outputs": [
    {
     "name": "stdout",
     "output_type": "stream",
     "text": [
      "delta_(T-2) : 531468194013.0\n"
     ]
    }
   ],
   "source": [
    "d_Tm2 = norm_val_fns(vTm2, vTm1)\n",
    "print('delta_(T-2) :', d_Tm2)"
   ]
  },
  {
   "cell_type": "markdown",
   "metadata": {},
   "source": [
    "### Exercise 5.14"
   ]
  },
  {
   "cell_type": "markdown",
   "metadata": {},
   "source": [
    "In the below function *dynprog*, I reiterate the step-by-step contraction mapping over and over again until the distance is small enough that the system converges. I use the value of $10^{-9}$ for the distance that is \"small enough.\""
   ]
  },
  {
   "cell_type": "code",
   "execution_count": 784,
   "metadata": {},
   "outputs": [],
   "source": [
    "small = 1e-9\n",
    "\n",
    "def dynprog(W_Wp, V, beta=0.9):\n",
    "    W_l = W_Wp.shape[0]\n",
    "    Wp_l = W_Wp.shape[1]\n",
    "    \n",
    "    err_msg = \"Dimensions should be the same\"\n",
    "    assert W_l == Wp_l and Wp_l == len(V), err_msg\n",
    "    \n",
    "    s = 1\n",
    "    inputV = V\n",
    "    d = small + 1\n",
    "    \n",
    "    while d >= small:\n",
    "        opener = \"Iteration \"+str(s)+\":\"\n",
    "        newV, newP = valpol(W_Wp, inputV, beta)\n",
    "        d = norm_val_fns(newV, inputV)\n",
    "        print(opener, \"distance =\", d)\n",
    "        inputV = newV\n",
    "        s += 1\n",
    "        \n",
    "    print(\"-------------------\")\n",
    "    print(\"Success at iteration \"+str(s-1)+\":\", \"distance =\", d)\n",
    "    \n",
    "    return newV, newP"
   ]
  },
  {
   "cell_type": "markdown",
   "metadata": {},
   "source": [
    "In the below section, we see that it takes 101 iterations to complete the entire contraction operation."
   ]
  },
  {
   "cell_type": "code",
   "execution_count": 785,
   "metadata": {},
   "outputs": [
    {
     "name": "stdout",
     "output_type": "stream",
     "text": [
      "Iteration 1: distance = 810041447241.0\n",
      "Iteration 2: distance = 656133572636.0\n",
      "Iteration 3: distance = 531468194013.0\n",
      "Iteration 4: distance = 430489237261.0\n",
      "Iteration 5: distance = 348696282256.0\n",
      "Iteration 6: distance = 282443988679.0\n",
      "Iteration 7: distance = 228779630868.0\n",
      "Iteration 8: distance = 185311501031.0\n",
      "Iteration 9: distance = 150102315856.0\n",
      "Iteration 10: distance = 121582875859.0\n",
      "Iteration 11: distance = 98482129458.5\n",
      "Iteration 12: distance = 79770524871.2\n",
      "Iteration 13: distance = 64614125153.5\n",
      "Iteration 14: distance = 52337441380.7\n",
      "Iteration 15: distance = 42393327523.6\n",
      "Iteration 16: distance = 34338595298.4\n",
      "Iteration 17: distance = 27814262195.4\n",
      "Iteration 18: distance = 22529552381.4\n",
      "Iteration 19: distance = 18248937431.8\n",
      "Iteration 20: distance = 14781639322.2\n",
      "Iteration 21: distance = 11973127853.1\n",
      "Iteration 22: distance = 9698233563.05\n",
      "Iteration 23: distance = 7855569187.98\n",
      "Iteration 24: distance = 6363011044.08\n",
      "Iteration 25: distance = 5154038947.42\n",
      "Iteration 26: distance = 4174771549.03\n",
      "Iteration 27: distance = 3381564956.26\n",
      "Iteration 28: distance = 2739067616.05\n",
      "Iteration 29: distance = 2218644770.4\n",
      "Iteration 30: distance = 1797102265.37\n",
      "Iteration 31: distance = 1455652836.23\n",
      "Iteration 32: distance = 1179078798.58\n",
      "Iteration 33: distance = 955053828.034\n",
      "Iteration 34: distance = 773593601.849\n",
      "Iteration 35: distance = 626610818.6\n",
      "Iteration 36: distance = 507554764.133\n",
      "Iteration 37: distance = 411119359.982\n",
      "Iteration 38: distance = 333006682.59\n",
      "Iteration 39: distance = 269735413.876\n",
      "Iteration 40: distance = 218485686.194\n",
      "Iteration 41: distance = 176973406.749\n",
      "Iteration 42: distance = 143348460.378\n",
      "Iteration 43: distance = 116112253.798\n",
      "Iteration 44: distance = 94050926.4522\n",
      "Iteration 45: distance = 76181251.286\n",
      "Iteration 46: distance = 61706814.3872\n",
      "Iteration 47: distance = 49982520.4862\n",
      "Iteration 48: distance = 40485842.4144\n",
      "Iteration 49: distance = 32793533.1644\n",
      "Iteration 50: distance = 26562762.6614\n",
      "Iteration 51: distance = 21515838.544\n",
      "Iteration 52: distance = 17427829.9996\n",
      "Iteration 53: distance = 14116543.0695\n",
      "Iteration 54: distance = 11434400.6479\n",
      "Iteration 55: distance = 9261865.27879\n",
      "Iteration 56: distance = 7502111.62159\n",
      "Iteration 57: distance = 6076711.1521\n",
      "Iteration 58: distance = 4922136.76448\n",
      "Iteration 59: distance = 3986931.50376\n",
      "Iteration 60: distance = 3229415.23529\n",
      "Iteration 61: distance = 2615827.05135\n",
      "Iteration 62: distance = 2118820.61478\n",
      "Iteration 63: distance = 1716245.39472\n",
      "Iteration 64: distance = 1390159.45959\n",
      "Iteration 65: distance = 1126029.84571\n",
      "Iteration 66: distance = 912084.851218\n",
      "Iteration 67: distance = 738789.399192\n",
      "Iteration 68: distance = 598420.075085\n",
      "Iteration 69: distance = 484720.914662\n",
      "Iteration 70: distance = 392624.58766\n",
      "Iteration 71: distance = 318026.554633\n",
      "Iteration 72: distance = 257602.140561\n",
      "Iteration 73: distance = 208658.355962\n",
      "Iteration 74: distance = 169013.881248\n",
      "Iteration 75: distance = 136901.848497\n",
      "Iteration 76: distance = 110891.09234\n",
      "Iteration 77: distance = 89822.3682302\n",
      "Iteration 78: distance = 72756.6906315\n",
      "Iteration 79: distance = 58933.4818508\n",
      "Iteration 80: distance = 47736.6710668\n",
      "Iteration 81: distance = 38667.2401787\n",
      "Iteration 82: distance = 31320.9876622\n",
      "Iteration 83: distance = 25370.5110143\n",
      "Iteration 84: distance = 20550.6050721\n",
      "Iteration 85: distance = 16646.4646846\n",
      "Iteration 86: distance = 13484.096096\n",
      "Iteration 87: distance = 10922.5530993\n",
      "Iteration 88: distance = 8847.68287051\n",
      "Iteration 89: distance = 7167.01967214\n",
      "Iteration 90: distance = 5805.64666365\n",
      "Iteration 91: distance = 4702.91194555\n",
      "Iteration 92: distance = 3809.65263538\n",
      "Iteration 93: distance = 3086.08473681\n",
      "Iteration 94: distance = 2499.94020953\n",
      "Iteration 95: distance = 2025.12876605\n",
      "Iteration 96: distance = 1640.46033978\n",
      "Iteration 97: distance = 1328.79107697\n",
      "Iteration 98: distance = 1076.2305423\n",
      "Iteration 99: distance = 871.522651457\n",
      "Iteration 100: distance = 705.54401115\n",
      "Iteration 101: distance = 0.0\n",
      "-------------------\n",
      "Success at iteration 101: distance = 0.0\n"
     ]
    }
   ],
   "source": [
    "val_cvg, pol_cvg = dynprog(W_minus_W_prime, val_Tp1)"
   ]
  },
  {
   "cell_type": "markdown",
   "metadata": {},
   "source": [
    "### Exercise 5.15"
   ]
  },
  {
   "cell_type": "markdown",
   "metadata": {},
   "source": [
    "We can plot the converged policy function as follows."
   ]
  },
  {
   "cell_type": "code",
   "execution_count": 798,
   "metadata": {
    "scrolled": true
   },
   "outputs": [
    {
     "data": {
      "image/png": "[encoded data removed]",
      "text/plain": [
       "<matplotlib.figure.Figure at 0x22e664d16a0>"
      ]
     },
     "metadata": {},
     "output_type": "display_data"
    }
   ],
   "source": [
    "plt.plot(W, pol_cvg)\n",
    "plt.title(\"Converged policy function\")\n",
    "plt.xlabel(\"Cake today\")\n",
    "plt.ylabel(\"Cake tomorrow\")\n",
    "plt.show()"
   ]
  },
  {
   "cell_type": "markdown",
   "metadata": {},
   "source": [
    "### Exercise 5.16"
   ]
  },
  {
   "cell_type": "markdown",
   "metadata": {},
   "source": [
    "For this exercise, I borrow the *ncNormal* function that I have created in the previous problem set for the creation of vectors $\\epsilon$ and $\\Gamma(\\epsilon)$. Note that we set the parameters first in the section directly below."
   ]
  },
  {
   "cell_type": "code",
   "execution_count": 521,
   "metadata": {},
   "outputs": [],
   "source": [
    "M = 7\n",
    "sigma = 0.5\n",
    "mu = sigma * 4\n",
    "k = 3"
   ]
  },
  {
   "cell_type": "code",
   "execution_count": 527,
   "metadata": {},
   "outputs": [],
   "source": [
    "from scipy.stats import norm as nr\n",
    "import numpy as np\n",
    "import math\n",
    "\n",
    "def ncNormal(mu, sig, N, k):\n",
    "    '''\n",
    "    Given mean and standard deviation of a normal distribution, along with\n",
    "    the number of nodes (to be equally spaced) and number of standard\n",
    "    deviations to be away from the mean, returns vector of weights and\n",
    "    vector of nodes for Newton-Cotes quadrature method.\n",
    "    \n",
    "    input:\n",
    "    mu: mean of the normal distribution\n",
    "    sig: standard deviation of the normal distribution\n",
    "    N: number of nodes\n",
    "    k: number of standard deviations to be away from the mean\n",
    "    \n",
    "    output:\n",
    "    tuple (double) containing\n",
    "    - vector of nodes\n",
    "    - vector of weights\n",
    "    \n",
    "    '''\n",
    "    \n",
    "    # Lower and upper bounds (i.e. furthest nodes)\n",
    "    lb, ub = mu - sig*k, mu + sig*k\n",
    "    \n",
    "    weights = []\n",
    "    \n",
    "    nodes = np.linspace(lb, ub, N)\n",
    "    case_1 = nr.cdf((nodes[0] + nodes[1]) / 2, mu, sig)\n",
    "    case_N = 1 - nr.cdf((nodes[-1] + nodes[-2]) / 2, mu, sig)\n",
    "    \n",
    "    for i in range(1, N+1):\n",
    "        if i == 1:\n",
    "            weights.append(case_1)\n",
    "        elif i == N:\n",
    "            weights.append(case_N)\n",
    "        else:\n",
    "            now = nodes[i-1]\n",
    "            fwd, bwd = nodes[i], nodes[i-2]\n",
    "            z_min = (bwd + now) / 2\n",
    "            z_max = (fwd + now) / 2\n",
    "            weights.append(nr.cdf(z_max, mu, sig) - nr.cdf(z_min, mu, sig))\n",
    "            \n",
    "    return np.array(nodes), np.array(weights)"
   ]
  },
  {
   "cell_type": "code",
   "execution_count": 528,
   "metadata": {},
   "outputs": [],
   "source": [
    "e_vec, gamma_vec = ncNormal(mu, sigma, 7, 3)"
   ]
  },
  {
   "cell_type": "code",
   "execution_count": 801,
   "metadata": {},
   "outputs": [
    {
     "name": "stdout",
     "output_type": "stream",
     "text": [
      "[ 0.5  1.   1.5  2.   2.5  3.   3.5]\n",
      "\n",
      "[ 0.00620967  0.06059754  0.24173034  0.38292492  0.24173034  0.06059754\n",
      "  0.00620967]\n",
      "Checking sum to 1: True\n"
     ]
    }
   ],
   "source": [
    "print(e_vec)\n",
    "print()\n",
    "print(gamma_vec)\n",
    "print(\"Checking sum to 1:\", np.sum(gamma_vec)==1)"
   ]
  },
  {
   "cell_type": "markdown",
   "metadata": {},
   "source": [
    "### Exercise 5.17"
   ]
  },
  {
   "cell_type": "markdown",
   "metadata": {},
   "source": [
    "Let us first generate the $7\\times100$ (for convenience's sake) zero matrix for $V_{T+1}(W',\\epsilon')$."
   ]
  },
  {
   "cell_type": "code",
   "execution_count": 926,
   "metadata": {},
   "outputs": [
    {
     "data": {
      "text/plain": [
       "(7, 100)"
      ]
     },
     "execution_count": 926,
     "metadata": {},
     "output_type": "execute_result"
    }
   ],
   "source": [
    "VeTp1 = [0] * N\n",
    "VeTp1 = [VeTp1] * M\n",
    "VeTp1 = np.array(VeTp1)\n",
    "VeTp1.shape"
   ]
  },
  {
   "cell_type": "markdown",
   "metadata": {},
   "source": [
    "The below section defines function *eU* which will return the $\\epsilon u(W-W')$ values (in matrix of dimensions $7\\times 100 \\times 100$, for convenience's sake), given matrix of $W-W'$ values and a vector of $\\epsilon$s. Note that $u(\\cdot) = \\ln(\\cdot)$."
   ]
  },
  {
   "cell_type": "code",
   "execution_count": 919,
   "metadata": {},
   "outputs": [],
   "source": [
    "def eU(W_Wp, evec):\n",
    "    \n",
    "    eUmat = []\n",
    "    \n",
    "    ## eUmat should result in dimensions x: N y: M z: N\n",
    "    for e in evec:\n",
    "        interm = e * ln_w_np(W_Wp)\n",
    "        eUmat.append(interm)\n",
    "    \n",
    "    return np.array(eUmat)"
   ]
  },
  {
   "cell_type": "markdown",
   "metadata": {},
   "source": [
    "The below section defines $EV$ which will return $\\mathbb{E}_{\\epsilon'}[V(W', \\epsilon')]$ values (in vector of length $100$), given $V(W', \\epsilon')$ (denoted *V* below), $\\beta$, and the probabilities over $\\epsilon'$ which is $\\Gamma(\\epsilon')$."
   ]
  },
  {
   "cell_type": "code",
   "execution_count": 936,
   "metadata": {},
   "outputs": [],
   "source": [
    "def EV(V, probs, beta=0.9):\n",
    "    \n",
    "    EVvec = []\n",
    "    \n",
    "    ## each row is across different values of epsilon\n",
    "    ## for a certain value of W'\n",
    "    for i in range(N):\n",
    "        column = V[:, i]\n",
    "        Expec = np.sum(column * probs)\n",
    "        EVvec.append(Expec)\n",
    "        \n",
    "    return np.array(EVvec)"
   ]
  },
  {
   "cell_type": "markdown",
   "metadata": {},
   "source": [
    "The below section will transform the vector of $\\mathbb{E}_{\\epsilon'}[V(W', \\epsilon')]$ values into a 3-dimensional array for the sake of calculation. Note that the upper triangle part of each \"slice\" across axis with $\\epsilon$ (with dimensions $100\\times 100$) should be punished with a negative number with large absolute value (in our case, $-1,000,000$ again) as such values are where $W-W'$ takes a nonpositive value."
   ]
  },
  {
   "cell_type": "code",
   "execution_count": 937,
   "metadata": {},
   "outputs": [],
   "source": [
    "def EV_to_cube(EV):\n",
    "    \n",
    "    EV_cube = []\n",
    "    for i in range(M):\n",
    "        EV_slice = []\n",
    "        for j in range(N):\n",
    "            EV_slice.append(EV)\n",
    "        EV_slice = np.array(EV_slice)\n",
    "        EV_slice[nonpos] = verylargeneg / 10000\n",
    "        EV_cube.append(EV_slice)\n",
    "    \n",
    "    return np.array(EV_cube)"
   ]
  },
  {
   "cell_type": "markdown",
   "metadata": {},
   "source": [
    "Now, the below function *eU_bEV* and *vp_stoch* will combine the above process and produce the matrices of value functions and policy functions. "
   ]
  },
  {
   "cell_type": "code",
   "execution_count": 942,
   "metadata": {},
   "outputs": [],
   "source": [
    "def eU_bEV(eU_cube, EV_cube, beta=0.9):\n",
    "    \n",
    "    entire = eU_cube + beta * EV_cube\n",
    "    \n",
    "    Vprimes = []\n",
    "    Wprimes = []\n",
    "    for i in range(M):\n",
    "        contraction_e = entire[i]\n",
    "        val_iter = contraction_e.max(axis=1)\n",
    "        polidx = np.argmax(contraction_e, axis=1)\n",
    "        pol_iter = W[polidx]\n",
    "        Vprimes.append(val_iter)\n",
    "        Wprimes.append(pol_iter)\n",
    "        \n",
    "    return np.array(Vprimes), np.array(Wprimes)"
   ]
  },
  {
   "cell_type": "code",
   "execution_count": 943,
   "metadata": {},
   "outputs": [],
   "source": [
    "def vp_stoch(W_Wp, VWe, evec, probs, beta=0.9):\n",
    "    \n",
    "    eUcube = eU(W_Wp, evec)\n",
    "    EVvec = EV(VWe, probs)\n",
    "    EVcube = EV_to_cube(EVvec)\n",
    "    \n",
    "    return eU_bEV(eUcube, EVcube)"
   ]
  },
  {
   "cell_type": "markdown",
   "metadata": {},
   "source": [
    "We can then calculate $V_T(W,\\epsilon)$ and $\\psi_T(W, \\epsilon)$ as follows."
   ]
  },
  {
   "cell_type": "code",
   "execution_count": 945,
   "metadata": {},
   "outputs": [],
   "source": [
    "VeT, PeT = vp_stoch(W_Wp, VeTp1, e_vec, gamma_vec)"
   ]
  },
  {
   "cell_type": "markdown",
   "metadata": {},
   "source": [
    "Let us plot the value function and policy function (at $\\epsilon = \\mu= 2$) for period $T$."
   ]
  },
  {
   "cell_type": "code",
   "execution_count": 946,
   "metadata": {},
   "outputs": [
    {
     "data": {
      "image/png": "[encoded data removed]",
      "text/plain": [
       "<matplotlib.figure.Figure at 0x22e664de2b0>"
      ]
     },
     "metadata": {},
     "output_type": "display_data"
    }
   ],
   "source": [
    "## value at T, epsilon = 2\n",
    "plt.plot(W,VeT[3])\n",
    "plt.title(\"Value function at T, epsilon = 2\")\n",
    "plt.show()"
   ]
  },
  {
   "cell_type": "code",
   "execution_count": 947,
   "metadata": {},
   "outputs": [
    {
     "data": {
      "image/png": "[encoded data removed]",
      "text/plain": [
       "<matplotlib.figure.Figure at 0x22e663a9198>"
      ]
     },
     "metadata": {},
     "output_type": "display_data"
    }
   ],
   "source": [
    "## policy at T, epsilon = 2\n",
    "plt.plot(W,PeT[3])\n",
    "plt.title(\"Policy function at T, epsilon = 2\")\n",
    "plt.show()"
   ]
  },
  {
   "cell_type": "markdown",
   "metadata": {},
   "source": [
    "### Exercise 5.18"
   ]
  },
  {
   "cell_type": "markdown",
   "metadata": {},
   "source": [
    "First I define the function *vectorize* to vectorize a matrix as its name strongly hints."
   ]
  },
  {
   "cell_type": "code",
   "execution_count": 948,
   "metadata": {},
   "outputs": [],
   "source": [
    "def vectorize(mat):\n",
    "    mat = mat.transpose()\n",
    "    vector = []\n",
    "    for row in mat:\n",
    "        vector += list(row)\n",
    "        \n",
    "    return np.array(vector)"
   ]
  },
  {
   "cell_type": "markdown",
   "metadata": {},
   "source": [
    "Next I define the function *norm_val_stoch* which vectorizes and finds the corresponding norm for two matrices."
   ]
  },
  {
   "cell_type": "code",
   "execution_count": 949,
   "metadata": {},
   "outputs": [],
   "source": [
    "def norm_val_stoch(v_T, v_Tp1):\n",
    "    \n",
    "    err_msg = \"The two inputs must have the same dimensions\"\n",
    "    assert v_T.shape == v_Tp1.shape, err_msg\n",
    "    \n",
    "    if type(v_T) == list:\n",
    "        v_T = np.array(v_T)\n",
    "\n",
    "    if type(v_Tp1) == list:\n",
    "        v_Tp1 = np.array(v_Tp1)\n",
    "    \n",
    "    vecT = vectorize(v_T)\n",
    "    vecTp1 = vectorize(v_Tp1)\n",
    "    \n",
    "    vec_diff = vecT - vecTp1\n",
    "    mult_vec = vec_diff * vec_diff\n",
    "    \n",
    "    return np.sum(mult_vec)"
   ]
  },
  {
   "cell_type": "markdown",
   "metadata": {},
   "source": [
    "Then, using these functions, $\\delta_T$ can be found as follows; $\\delta_T \\approx 5.671\\times10^{12}$."
   ]
  },
  {
   "cell_type": "code",
   "execution_count": 950,
   "metadata": {},
   "outputs": [
    {
     "name": "stdout",
     "output_type": "stream",
     "text": [
      "5.67058027626e+12\n"
     ]
    }
   ],
   "source": [
    "d_T = norm_val_stoch(VeT, VeTp1)\n",
    "print(d_T)"
   ]
  },
  {
   "cell_type": "markdown",
   "metadata": {},
   "source": [
    "### Exercise 5.19"
   ]
  },
  {
   "cell_type": "markdown",
   "metadata": {},
   "source": [
    "We have generated $V_{T-1}$ and $\\psi_{T-1}$ as follows, and let us plot them for $\\epsilon = \\mu = 2$."
   ]
  },
  {
   "cell_type": "code",
   "execution_count": 951,
   "metadata": {},
   "outputs": [],
   "source": [
    "VeTm1, PeTm1 = vp_stoch(W_Wp, VeT, e_vec, gamma_vec)"
   ]
  },
  {
   "cell_type": "code",
   "execution_count": 952,
   "metadata": {},
   "outputs": [
    {
     "data": {
      "image/png": "[encoded data removed]",
      "text/plain": [
       "<matplotlib.figure.Figure at 0x22e6648e860>"
      ]
     },
     "metadata": {},
     "output_type": "display_data"
    }
   ],
   "source": [
    "## value at T-1, epsilon = 2\n",
    "plt.plot(W,VeTm1[3])\n",
    "plt.title(\"Value function at T-1, epsilon = 2\")\n",
    "plt.show()"
   ]
  },
  {
   "cell_type": "code",
   "execution_count": 953,
   "metadata": {},
   "outputs": [
    {
     "data": {
      "image/png": "[encoded data removed]",
      "text/plain": [
       "<matplotlib.figure.Figure at 0x22e661d58d0>"
      ]
     },
     "metadata": {},
     "output_type": "display_data"
    }
   ],
   "source": [
    "## policy at T-1, epsilon = 2\n",
    "plt.plot(W,PeTm1[3])\n",
    "plt.title(\"Policy function at T-1, epsilon = 2\")\n",
    "plt.show()"
   ]
  },
  {
   "cell_type": "markdown",
   "metadata": {},
   "source": [
    "We then find $\\delta_{T-1} \\approx 5.667\\times10^{12}$, which is smaller than $\\delta_T \\approx 5.671\\times10^{12}$."
   ]
  },
  {
   "cell_type": "code",
   "execution_count": 954,
   "metadata": {},
   "outputs": [
    {
     "name": "stdout",
     "output_type": "stream",
     "text": [
      "5.66731540908e+12\n"
     ]
    }
   ],
   "source": [
    "d_Tm1 = norm_val_stoch(VWe_Tm1, VWe_T)\n",
    "print(d_Tm1)"
   ]
  },
  {
   "cell_type": "markdown",
   "metadata": {},
   "source": [
    "### Exercise 5.20"
   ]
  },
  {
   "cell_type": "markdown",
   "metadata": {},
   "source": [
    "Again, we apply the functions above to find $V_{T-2}$ and $\\psi_{T-2}$; let us again plot them for $\\epsilon = \\mu = 2$."
   ]
  },
  {
   "cell_type": "code",
   "execution_count": 955,
   "metadata": {},
   "outputs": [],
   "source": [
    "VeTm2, PeTm2 = vp_stoch(W_Wp, VeTm1, e_vec, gamma_vec)"
   ]
  },
  {
   "cell_type": "code",
   "execution_count": 958,
   "metadata": {},
   "outputs": [
    {
     "data": {
      "image/png": "[encoded data removed]",
      "text/plain": [
       "<matplotlib.figure.Figure at 0x22e661b03c8>"
      ]
     },
     "metadata": {},
     "output_type": "display_data"
    }
   ],
   "source": [
    "## value at T-2, epsilon = 2\n",
    "plt.plot(W,VeTm2[3])\n",
    "plt.title(\"Value function at T-2, epsilon = 2\")\n",
    "plt.show()"
   ]
  },
  {
   "cell_type": "code",
   "execution_count": 957,
   "metadata": {},
   "outputs": [
    {
     "data": {
      "image/png": "[encoded data removed]",
      "text/plain": [
       "<matplotlib.figure.Figure at 0x22e664fc940>"
      ]
     },
     "metadata": {},
     "output_type": "display_data"
    }
   ],
   "source": [
    "## policy at T-2, epsilon = 2\n",
    "plt.plot(W,PeTm2[3])\n",
    "plt.title(\"Policy function at T-2, epsilon = 2\")\n",
    "plt.show()"
   ]
  },
  {
   "cell_type": "markdown",
   "metadata": {},
   "source": [
    "We find $\\delta_{T-2} \\approx 3.720\\times10^{12}$, which is smaller than $\\delta_{T-1} \\approx 5.667\\times10^{12}$ and smaller than $\\delta_T \\approx 5.671\\times10^{12}$."
   ]
  },
  {
   "cell_type": "code",
   "execution_count": 959,
   "metadata": {},
   "outputs": [
    {
     "name": "stdout",
     "output_type": "stream",
     "text": [
      "3.72046772907e+12\n"
     ]
    }
   ],
   "source": [
    "d_Tm2 = norm_val_stoch(VeTm2, VeTm1)\n",
    "print(d_Tm2)"
   ]
  },
  {
   "cell_type": "markdown",
   "metadata": {},
   "source": [
    "### Exercise 5.21"
   ]
  },
  {
   "cell_type": "markdown",
   "metadata": {},
   "source": [
    "Let us then use the function *dynprog_stoch* as described below to find whether the system converges or not, and how many iterations it requires if it does so."
   ]
  },
  {
   "cell_type": "code",
   "execution_count": 963,
   "metadata": {},
   "outputs": [],
   "source": [
    "small = 1e-9\n",
    "\n",
    "def dynprog_stoch(W_Wp, VWe, evec, probs, beta=0.9):\n",
    "    W_l = W_Wp.shape[0]\n",
    "    Wp_l = W_Wp.shape[1]\n",
    "    V_l = VWe.shape[1]\n",
    "    \n",
    "    err_msg = \"Dimensions should be the same\"\n",
    "    assert W_l == Wp_l and Wp_l == V_l, err_msg\n",
    "    \n",
    "    s = 1\n",
    "    inputVWe = VWe\n",
    "    d = small + 1\n",
    "    \n",
    "    while d >= small:\n",
    "        opener = \"Iteration \"+str(s)+\":\"\n",
    "        newVWe, newPWe = vp_stoch(W_Wp, inputVWe, evec, probs)\n",
    "        d = norm_val_stoch(newVWe, inputVWe)\n",
    "        print(opener, \"distance =\", d)\n",
    "        inputVWe = newVWe\n",
    "        s += 1\n",
    "        \n",
    "    print(\"-------------------\")\n",
    "    print(\"Success at iteration \"+str(s-1)+\":\", \"distance =\", d)\n",
    "    \n",
    "    return newVWe, newPWe"
   ]
  },
  {
   "cell_type": "code",
   "execution_count": 965,
   "metadata": {},
   "outputs": [
    {
     "name": "stdout",
     "output_type": "stream",
     "text": [
      "Iteration 1: distance = 5.67058027626e+12\n",
      "Iteration 2: distance = 4.59317002971e+12\n",
      "Iteration 3: distance = 3.72046772907e+12\n",
      "Iteration 4: distance = 3.01357886362e+12\n",
      "Iteration 5: distance = 2.44099888159e+12\n",
      "Iteration 6: distance = 1.97720909554e+12\n",
      "Iteration 7: distance = 1.60153936844e+12\n",
      "Iteration 8: distance = 1.29724688922e+12\n",
      "Iteration 9: distance = 1.05076998086e+12\n",
      "Iteration 10: distance = 851123684949.0\n",
      "Iteration 11: distance = 689410185163.0\n",
      "Iteration 12: distance = 558422250263.0\n",
      "Iteration 13: distance = 452322022938.0\n",
      "Iteration 14: distance = 366380838763.0\n",
      "Iteration 15: distance = 296768479550.0\n",
      "Iteration 16: distance = 240382468563.0\n",
      "Iteration 17: distance = 194709799644.0\n",
      "Iteration 18: distance = 157714937806.0\n",
      "Iteration 19: distance = 127749099705.0\n",
      "Iteration 20: distance = 103476770835.0\n",
      "Iteration 21: distance = 83816184443.5\n",
      "Iteration 22: distance = 67891109461.0\n",
      "Iteration 23: distance = 54991798721.0\n",
      "Iteration 24: distance = 44543357018.2\n",
      "Iteration 25: distance = 36080119235.9\n",
      "Iteration 26: distance = 29224896629.6\n",
      "Iteration 27: distance = 23672166316.2\n",
      "Iteration 28: distance = 19174454760.1\n",
      "Iteration 29: distance = 15531308397.8\n",
      "Iteration 30: distance = 12580359842.5\n",
      "Iteration 31: distance = 10190091511.0\n",
      "Iteration 32: distance = 8253974161.05\n",
      "Iteration 33: distance = 6685719106.21\n",
      "Iteration 34: distance = 5415432510.55\n",
      "Iteration 35: distance = 4386500366.94\n",
      "Iteration 36: distance = 3553065329.59\n",
      "Iteration 37: distance = 2877982948.41\n",
      "Iteration 38: distance = 2331166218.81\n",
      "Iteration 39: distance = 1888244667.06\n",
      "Iteration 40: distance = 1529478209.44\n",
      "Iteration 41: distance = 1238877378.12\n",
      "Iteration 42: distance = 1003490704.18\n",
      "Iteration 43: distance = 812827497.749\n",
      "Iteration 44: distance = 658390300.053\n",
      "Iteration 45: distance = 533296169.471\n",
      "Iteration 46: distance = 431969923.291\n",
      "Iteration 47: distance = 349895663.507\n",
      "Iteration 48: distance = 283415512.73\n",
      "Iteration 49: distance = 229566590.273\n",
      "Iteration 50: distance = 185948962.778\n",
      "Iteration 51: distance = 150618684.221\n",
      "Iteration 52: distance = 122001158.324\n",
      "Iteration 53: distance = 98820962.0927\n",
      "Iteration 54: distance = 80045002.9038\n",
      "Iteration 55: distance = 64836475.7324\n",
      "Iteration 56: distance = 52517568.5008\n",
      "Iteration 57: distance = 42539253.4301\n",
      "Iteration 58: distance = 34456818.0175\n",
      "Iteration 59: distance = 27910045.1313\n",
      "Iteration 60: distance = 22607158.8921\n",
      "Iteration 61: distance = 18311820.8398\n",
      "Iteration 62: distance = 14832596.823\n",
      "Iteration 63: distance = 12014425.1802\n",
      "Iteration 64: distance = 9731705.95264\n",
      "Iteration 65: distance = 7882703.17812\n",
      "Iteration 66: distance = 6385010.72979\n",
      "Iteration 67: distance = 5171879.64356\n",
      "Iteration 68: distance = 4189243.25957\n",
      "Iteration 69: distance = 3393307.57392\n",
      "Iteration 70: distance = 2748599.44267\n",
      "Iteration 71: distance = 2226385.62444\n",
      "Iteration 72: distance = 1803392.20095\n",
      "Iteration 73: distance = 1460767.29321\n",
      "Iteration 74: distance = 1183240.86925\n",
      "Iteration 75: distance = 958444.194177\n",
      "Iteration 76: distance = 776358.599812\n",
      "Iteration 77: distance = 628868.962839\n",
      "Iteration 78: distance = 509402.046061\n",
      "Iteration 79: distance = 412633.536675\n",
      "Iteration 80: distance = 334250.712362\n",
      "Iteration 81: distance = 270760.243009\n",
      "Iteration 82: distance = 219332.553119\n",
      "Iteration 83: distance = 177675.704799\n",
      "Iteration 84: distance = 143933.199434\n",
      "Iteration 85: distance = 116601.270732\n",
      "Iteration 86: distance = 94461.8680706\n",
      "Iteration 87: distance = 76528.3654502\n",
      "Iteration 88: distance = 62001.5987535\n",
      "Iteration 89: distance = 50234.1971895\n",
      "Iteration 90: distance = 40701.8146503\n",
      "Iteration 91: distance = 32979.6663073\n",
      "Iteration 92: distance = 26723.7839804\n",
      "Iteration 93: distance = 21655.3266153\n",
      "Iteration 94: distance = 17548.5925371\n",
      "Iteration 95: distance = 14220.5259173\n",
      "Iteration 96: distance = 11522.8960781\n",
      "Iteration 97: distance = 9335.3175162\n",
      "Iteration 98: distance = 7560.27093771\n",
      "Iteration 99: distance = 6118.28900608\n",
      "Iteration 100: distance = 4939.0607865\n",
      "Iteration 101: distance = 0.0\n",
      "-------------------\n",
      "Success at iteration 101: distance = 0.0\n"
     ]
    }
   ],
   "source": [
    "val_cvg, pol_cvg = dynprog_stoch(W_Wp, VeTp1, e_vec, gamma_vec)"
   ]
  },
  {
   "cell_type": "markdown",
   "metadata": {},
   "source": [
    "The above process shows that it took 101 iterations for convergence."
   ]
  },
  {
   "cell_type": "markdown",
   "metadata": {},
   "source": [
    "### Exercise 5.22"
   ]
  },
  {
   "cell_type": "markdown",
   "metadata": {},
   "source": [
    "Let us plot the 3-D graph as requested:"
   ]
  },
  {
   "cell_type": "code",
   "execution_count": 330,
   "metadata": {},
   "outputs": [],
   "source": [
    "import matplotlib.pyplot as plt\n",
    "from mpl_toolkits.mplot3d import Axes3D"
   ]
  },
  {
   "cell_type": "code",
   "execution_count": 966,
   "metadata": {},
   "outputs": [],
   "source": [
    "X = W\n",
    "Y = e_vec\n",
    "X, Y = np.meshgrid(X, Y)\n",
    "Z = pol_cvg"
   ]
  },
  {
   "cell_type": "code",
   "execution_count": 969,
   "metadata": {},
   "outputs": [
    {
     "data": {
      "image/png": "[encoded data removed]",
      "text/plain": [
       "<matplotlib.figure.Figure at 0x22e6651bc88>"
      ]
     },
     "metadata": {},
     "output_type": "display_data"
    }
   ],
   "source": [
    "fig = plt.figure()\n",
    "ax = fig.add_subplot(111, projection='3d')\n",
    "ax.plot_surface(Y, X, Z)\n",
    "ax.set_title(\"Converged policy function\")\n",
    "ax.set_zlabel(\"Cake tomorrow\")\n",
    "ax.set_ylabel(\"Cake today\")\n",
    "ax.set_xlabel(\"Shock on utility\")\n",
    "plt.show()"
   ]
  }
 ],
 "metadata": {
  "kernelspec": {
   "display_name": "Python 3",
   "language": "python",
   "name": "python3"
  },
  "language_info": {
   "codemirror_mode": {
    "name": "ipython",
    "version": 3
   },
   "file_extension": ".py",
   "mimetype": "text/x-python",
   "name": "python",
   "nbconvert_exporter": "python",
   "pygments_lexer": "ipython3",
   "version": "3.6.4"
  }
 },
 "nbformat": 4,
 "nbformat_minor": 2
}
